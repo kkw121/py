{
 "cells": [
  {
   "cell_type": "markdown",
   "id": "22ca7dfe-962a-4d17-8ca5-c710dddb6cd0",
   "metadata": {},
   "source": [
    "# 1. Write a Python program to create a table and insert some records in that table. Finally selects all rows from the table and display the records."
   ]
  },
  {
   "cell_type": "code",
   "execution_count": 4,
   "id": "3f993d78-8e5b-4586-9df5-85f59e721e96",
   "metadata": {},
   "outputs": [
    {
     "name": "stdout",
     "output_type": "stream",
     "text": [
      "[(1, 'Alice', 40), (2, 'Bob', 25), (3, 'Charlie', 35), (4, 'Alice', 30), (5, 'Alice', 25), (6, 'Charlie', 35)]\n"
     ]
    }
   ],
   "source": [
    "import sqlite3\n",
    "\n",
    "conn = sqlite3.connect('example.db')\n",
    "cursor = conn.cursor()\n",
    "cursor.execute('''CREATE TABLE IF NOT EXISTS records\n",
    "                  (id INTEGER PRIMARY KEY, name TEXT, age INTEGER)''')\n",
    "\n",
    "cursor.execute(\"INSERT INTO records (name, age) VALUES (?, ?)\", ('Alice', 30))\n",
    "cursor.execute(\"INSERT INTO records (name, age) VALUES (?, ?)\", ('Alice', 25))\n",
    "cursor.execute(\"INSERT INTO records (name, age) VALUES (?, ?)\", ('Charlie', 35))\n",
    "\n",
    "conn.commit()\n",
    "\n",
    "cursor.execute(\"SELECT * FROM records\")\n",
    "print(cursor.fetchall())\n",
    "\n",
    "cursor.close()\n",
    "conn.close()\n"
   ]
  },
  {
   "cell_type": "markdown",
   "id": "c2b1842f-ed1b-42da-a07a-2e2931b4fddc",
   "metadata": {},
   "source": [
    "# 2. Write a Python program to update a specific column value of a given table and select all rows before and after updating the said table."
   ]
  },
  {
   "cell_type": "code",
   "execution_count": 5,
   "id": "b783dd92-84ad-4f26-8903-6c0e2ad6d20d",
   "metadata": {},
   "outputs": [
    {
     "name": "stdout",
     "output_type": "stream",
     "text": [
      "Before updating:\n",
      "[(1, 'Alice', 40), (2, 'Bob', 25), (3, 'Charlie', 35), (4, 'Alice', 30), (5, 'Alice', 25), (6, 'Charlie', 35)]\n",
      "\n",
      "After updating:\n",
      "[(1, 'Alice', 40), (2, 'Bob', 25), (3, 'Charlie', 35), (4, 'Alice', 40), (5, 'Alice', 40), (6, 'Charlie', 35)]\n"
     ]
    }
   ],
   "source": [
    "import sqlite3\n",
    "\n",
    "conn = sqlite3.connect('example.db')\n",
    "\n",
    "cursor = conn.cursor()\n",
    "\n",
    "print(\"Before updating:\")\n",
    "cursor.execute(\"SELECT * FROM records\")\n",
    "print(cursor.fetchall())\n",
    "\n",
    "cursor.execute(\"UPDATE records SET age = ? WHERE name = ?\", (40, 'Alice'))\n",
    "\n",
    "conn.commit()\n",
    "\n",
    "print(\"\\nAfter updating:\")\n",
    "cursor.execute(\"SELECT * FROM records\")\n",
    "print(cursor.fetchall())\n",
    "\n",
    "cursor.close()\n",
    "conn.close()\n"
   ]
  },
  {
   "cell_type": "markdown",
   "id": "bda45acd-eec4-41c0-a307-5f7249c51fc1",
   "metadata": {},
   "source": [
    "# 3. Write a Python program to delete a specific row from a given SQLite table."
   ]
  },
  {
   "cell_type": "code",
   "execution_count": 6,
   "id": "260f2f86-cf46-4b29-8c8a-6d0d147ae787",
   "metadata": {},
   "outputs": [
    {
     "name": "stdout",
     "output_type": "stream",
     "text": [
      "Before deleting:\n",
      "[(1, 'Alice', 40), (2, 'Bob', 25), (3, 'Charlie', 35), (4, 'Alice', 40), (5, 'Alice', 40), (6, 'Charlie', 35)]\n",
      "\n",
      "After deleting:\n",
      "[(2, 'Bob', 25), (3, 'Charlie', 35), (6, 'Charlie', 35)]\n"
     ]
    }
   ],
   "source": [
    "import sqlite3\n",
    "\n",
    "conn = sqlite3.connect('example.db')\n",
    "\n",
    "cursor = conn.cursor()\n",
    "\n",
    "print(\"Before deleting:\")\n",
    "cursor.execute(\"SELECT * FROM records\")\n",
    "print(cursor.fetchall())\n",
    "\n",
    "cursor.execute(\"DELETE FROM records WHERE name = ?\", ('Alice',))\n",
    "\n",
    "conn.commit()\n",
    "\n",
    "print(\"\\nAfter deleting:\")\n",
    "cursor.execute(\"SELECT * FROM records\")\n",
    "print(cursor.fetchall())\n",
    "\n",
    "cursor.close()\n",
    "conn.close()\n"
   ]
  },
  {
   "cell_type": "markdown",
   "id": "aa039f59-dfcd-4b58-bea7-70d147268485",
   "metadata": {},
   "source": [
    "# 4. Write a Python program to alter a given SQLite table."
   ]
  },
  {
   "cell_type": "code",
   "execution_count": 7,
   "id": "7a5721a8-b18a-411c-bbf5-3ebd3906292e",
   "metadata": {},
   "outputs": [],
   "source": [
    "import sqlite3\n",
    "\n",
    "conn = sqlite3.connect('example.db')\n",
    "\n",
    "cursor = conn.cursor()\n",
    "\n",
    "cursor.execute(\"ALTER TABLE records ADD COLUMN email TEXT\")\n",
    "\n",
    "conn.commit()\n",
    "\n",
    "cursor.close()\n",
    "conn.close()\n"
   ]
  },
  {
   "cell_type": "markdown",
   "id": "8d59c081-4c86-4d41-a13f-445324774de7",
   "metadata": {},
   "source": [
    "# 5. Write a Python program to update all the values of a specific column of a given SQLite table."
   ]
  },
  {
   "cell_type": "code",
   "execution_count": 8,
   "id": "8c8175b8-daf9-4e44-b770-294a3c7770fe",
   "metadata": {},
   "outputs": [
    {
     "name": "stdout",
     "output_type": "stream",
     "text": [
      "Before updating:\n",
      "[(2, 'Bob', 25, None), (3, 'Charlie', 35, None), (6, 'Charlie', 35, None)]\n",
      "\n",
      "After updating:\n",
      "[(2, 'Bob', 40, None), (3, 'Charlie', 40, None), (6, 'Charlie', 40, None)]\n"
     ]
    }
   ],
   "source": [
    "import sqlite3\n",
    "\n",
    "conn = sqlite3.connect('example.db')\n",
    "\n",
    "cursor = conn.cursor()\n",
    "\n",
    "print(\"Before updating:\")\n",
    "cursor.execute(\"SELECT * FROM records\")\n",
    "print(cursor.fetchall())\n",
    "\n",
    "cursor.execute(\"UPDATE records SET age = 40\")\n",
    "\n",
    "conn.commit()\n",
    "\n",
    "print(\"\\nAfter updating:\")\n",
    "cursor.execute(\"SELECT * FROM records\")\n",
    "print(cursor.fetchall())\n",
    "\n",
    "cursor.close()\n",
    "conn.close()\n"
   ]
  },
  {
   "cell_type": "markdown",
   "id": "6d3d2d81-a2c4-4a1d-8fe0-0e86beb6c053",
   "metadata": {},
   "source": [
    "# 6. Write Python code to:\n",
    "1. Connect to a MySQL database using the mysql.connector library.\n",
    "2. Execute a SQL query to retrieve all customer names and emails.\n",
    "3. Insert a new row into the &quot;customers&quot; table.\n",
    "4. Update an existing customer&#39;s email address."
   ]
  },
  {
   "cell_type": "code",
   "execution_count": 13,
   "id": "e307195f-1173-4269-abb3-1803a3efbea6",
   "metadata": {},
   "outputs": [
    {
     "name": "stdout",
     "output_type": "stream",
     "text": [
      "Customer names and emails:\n",
      "('Yash', 'new.email@example.com')\n",
      "New customer added successfully.\n",
      "Customer's email updated successfully.\n"
     ]
    }
   ],
   "source": [
    "import mysql.connector\n",
    "\n",
    "conn = mysql.connector.connect(\n",
    "    host=\"localhost\",\n",
    "    user=\"root\",\n",
    "    password=\"rootpass\",\n",
    "    database=\"python_database\"\n",
    ")\n",
    "\n",
    "cursor = conn.cursor()\n",
    "\n",
    "cursor.execute(\"SELECT name, email FROM customers\")\n",
    "result = cursor.fetchall()\n",
    "print(\"Customer names and emails:\")\n",
    "for row in result:\n",
    "    print(row)\n",
    "\n",
    "new_customer = (\"Yash\", \"yash@gmail.com\")\n",
    "cursor.execute(\"INSERT INTO customers (name, email) VALUES (%s, %s)\", new_customer)\n",
    "conn.commit()\n",
    "print(\"New customer added successfully.\")\n",
    "\n",
    "updated_email = \"new.email@example.com\"\n",
    "customer_id_to_update = 1 \n",
    "cursor.execute(\"UPDATE customers SET email = %s WHERE id = %s\", (updated_email, customer_id_to_update))\n",
    "conn.commit()\n",
    "print(\"Customer's email updated successfully.\")\n",
    "\n",
    "cursor.close()\n",
    "conn.close()\n"
   ]
  },
  {
   "cell_type": "markdown",
   "id": "b1a863ba-0b1d-49cc-b687-f6c028da0b15",
   "metadata": {},
   "source": [
    "# 7. Write a Python program that connects to a MySQL database and fetches and prints the version of the MySQL server."
   ]
  },
  {
   "cell_type": "code",
   "execution_count": 14,
   "id": "40935c82-9d85-4152-89d6-c65037b3b3d3",
   "metadata": {},
   "outputs": [
    {
     "name": "stdout",
     "output_type": "stream",
     "text": [
      "MySQL Server Version: 8.0.36\n"
     ]
    }
   ],
   "source": [
    "import mysql.connector\n",
    "\n",
    "try:\n",
    "    conn = mysql.connector.connect(\n",
    "        host=\"localhost\",\n",
    "        user=\"root\",\n",
    "        password=\"rootpass\",\n",
    "        database=\"python_database\"\n",
    "    )\n",
    "    cursor = conn.cursor()\n",
    "\n",
    "    cursor.execute(\"SELECT VERSION()\")\n",
    "    server_version = cursor.fetchone()[0]\n",
    "\n",
    "    print(\"MySQL Server Version:\", server_version)\n",
    "\n",
    "except mysql.connector.Error as e:\n",
    "    print(\"Error connecting to MySQL:\", e)\n",
    "\n",
    "finally:\n",
    "    if 'conn' in locals() and conn.is_connected():\n",
    "        cursor.close()\n",
    "        conn.close()\n"
   ]
  },
  {
   "cell_type": "markdown",
   "id": "9ea21b2c-0735-493c-b6eb-8fe0c9e5d430",
   "metadata": {},
   "source": [
    "# 8. Create a program that establishes a connection to a MySQL database and lists all the databases available on the server."
   ]
  },
  {
   "cell_type": "code",
   "execution_count": 16,
   "id": "211a72b4-5d5b-4ea5-99ef-2f0c1245d222",
   "metadata": {},
   "outputs": [
    {
     "name": "stdout",
     "output_type": "stream",
     "text": [
      "List of databases:\n",
      "information_schema\n",
      "mysql\n",
      "performance_schema\n",
      "python_database\n",
      "sys\n"
     ]
    }
   ],
   "source": [
    "import mysql.connector\n",
    "\n",
    "try:\n",
    "    conn = mysql.connector.connect(\n",
    "        host=\"localhost\",\n",
    "        user=\"root\",\n",
    "        password=\"rootpass\"\n",
    "    )\n",
    "\n",
    "    cursor = conn.cursor()\n",
    "    cursor.execute(\"SHOW DATABASES\")\n",
    "\n",
    "    databases = cursor.fetchall()\n",
    "\n",
    "    print(\"List of databases:\")\n",
    "    for database in databases:\n",
    "        print(database[0])\n",
    "\n",
    "except mysql.connector.Error as e:\n",
    "    print(\"Error connecting to MySQL:\", e)\n",
    "\n",
    "finally:\n",
    "    if 'conn' in locals() and conn.is_connected():\n",
    "        cursor.close()\n",
    "        conn.close()\n"
   ]
  },
  {
   "cell_type": "markdown",
   "id": "29d17700-ea1f-4a59-ae8a-9f74394622a7",
   "metadata": {},
   "source": [
    "# 9. Write a Python program that connects to a MySQL database, creates a table named employees with columns for id, name, and salary, and inserts a few records into the table."
   ]
  },
  {
   "cell_type": "code",
   "execution_count": 2,
   "id": "3a04fbf9-b057-40c0-922b-ef3c3ca601a7",
   "metadata": {},
   "outputs": [
    {
     "name": "stdout",
     "output_type": "stream",
     "text": [
      "Records inserted successfully.\n"
     ]
    }
   ],
   "source": [
    "import mysql.connector\n",
    "\n",
    "try:\n",
    "    conn = mysql.connector.connect(\n",
    "        host=\"localhost\",\n",
    "        user=\"root\",\n",
    "        password=\"rootpass\",\n",
    "        database=\"python_database\"\n",
    "    )\n",
    "\n",
    "    cursor = conn.cursor()\n",
    "\n",
    "    cursor.execute(\"CREATE TABLE IF NOT EXISTS employees (id INT AUTO_INCREMENT PRIMARY KEY, name VARCHAR(255), salary DECIMAL(10, 2))\")\n",
    "\n",
    "    employees_data = [\n",
    "        (\"Yash\", 50000),\n",
    "        (\"Abhishek\", 60000),\n",
    "        (\"Dipak\", 55000)\n",
    "    ]\n",
    "    cursor.executemany(\"INSERT INTO employees (name, salary) VALUES (%s, %s)\", employees_data)\n",
    "\n",
    "    conn.commit()\n",
    "    print(\"Records inserted successfully.\")\n",
    "\n",
    "except mysql.connector.Error as e:\n",
    "    print(\"Error connecting to MySQL:\", e)\n",
    "\n",
    "finally:\n",
    "    if 'conn' in locals() and conn.is_connected():\n",
    "        cursor.close()\n",
    "        conn.close()\n"
   ]
  },
  {
   "cell_type": "markdown",
   "id": "587dd15f-3dfb-45c6-9c92-2b0ac74f62dd",
   "metadata": {},
   "source": [
    "# 10. Create a program that connects to a MySQL database, queries the employees table, and prints the names and salaries of employees."
   ]
  },
  {
   "cell_type": "code",
   "execution_count": 3,
   "id": "1e5c9b51-0451-4500-b557-523c84a4e950",
   "metadata": {},
   "outputs": [
    {
     "name": "stdout",
     "output_type": "stream",
     "text": [
      "Names and Salaries of Employees:\n",
      "Name: Yash - Salary: 50000.00\n",
      "Name: Abhishek - Salary: 60000.00\n",
      "Name: Dipak - Salary: 55000.00\n"
     ]
    }
   ],
   "source": [
    "import mysql.connector\n",
    "\n",
    "try:\n",
    "    conn = mysql.connector.connect(\n",
    "        host=\"localhost\",\n",
    "        user=\"root\",\n",
    "        password=\"rootpass\",\n",
    "        database=\"python_database\"\n",
    "    )\n",
    "\n",
    "    cursor = conn.cursor()\n",
    "\n",
    "    cursor.execute(\"SELECT name, salary FROM employees\")\n",
    "\n",
    "    records = cursor.fetchall()\n",
    "\n",
    "    print(\"Names and Salaries of Employees:\")\n",
    "    for record in records:\n",
    "        print(\"Name:\", record[0], \"- Salary:\", record[1])\n",
    "\n",
    "except mysql.connector.Error as e:\n",
    "    print(\"Error connecting to MySQL:\", e)\n",
    "\n",
    "finally:\n",
    "    if 'conn' in locals() and conn.is_connected():\n",
    "        cursor.close()\n",
    "        conn.close()\n"
   ]
  },
  {
   "cell_type": "markdown",
   "id": "49b90c8b-8110-4678-ba65-7dc9ac26d996",
   "metadata": {},
   "source": [
    "# 11. Write a Python program that connects to a MySQL database, updates the salary of an employee in the employees table, and then queries and prints the updated record."
   ]
  },
  {
   "cell_type": "code",
   "execution_count": 4,
   "id": "d0beb82a-f8d1-4056-aa15-8956a70c8c3d",
   "metadata": {},
   "outputs": [
    {
     "name": "stdout",
     "output_type": "stream",
     "text": [
      "Salary updated successfully.\n",
      "Updated Record:\n",
      "ID: 1\n",
      "Name: Yash\n",
      "Salary: 65000.00\n"
     ]
    }
   ],
   "source": [
    "import mysql.connector\n",
    "\n",
    "try:\n",
    "    conn = mysql.connector.connect(\n",
    "        host=\"localhost\",\n",
    "        user=\"root\",\n",
    "        password=\"rootpass\",\n",
    "        database=\"python_database\"\n",
    "    )\n",
    "\n",
    "    cursor = conn.cursor()\n",
    "\n",
    "    employee_id_to_update = 1\n",
    "    new_salary = 65000\n",
    "    cursor.execute(\"UPDATE employees SET salary = %s WHERE id = %s\", (new_salary, employee_id_to_update))\n",
    "    conn.commit()\n",
    "    print(\"Salary updated successfully.\")\n",
    "\n",
    "    cursor.execute(\"SELECT * FROM employees WHERE id = %s\", (employee_id_to_update,))\n",
    "    updated_record = cursor.fetchone()\n",
    "\n",
    "    print(\"Updated Record:\")\n",
    "    print(\"ID:\", updated_record[0])\n",
    "    print(\"Name:\", updated_record[1])\n",
    "    print(\"Salary:\", updated_record[2])\n",
    "\n",
    "except mysql.connector.Error as e:\n",
    "    print(\"Error connecting to MySQL:\", e)\n",
    "\n",
    "finally:\n",
    "    if 'conn' in locals() and conn.is_connected():\n",
    "        cursor.close()\n",
    "        conn.close()\n"
   ]
  },
  {
   "cell_type": "markdown",
   "id": "1c8561bd-b39a-4e01-a3d0-20b921c2f9b7",
   "metadata": {},
   "source": [
    "# 12. Create a program that connects to a MySQL database, deletes a specific employee record from the employees table, and then queries and prints the remaining records."
   ]
  },
  {
   "cell_type": "code",
   "execution_count": 5,
   "id": "dbf11105-a21f-402e-aaa5-26dedf843ffd",
   "metadata": {},
   "outputs": [
    {
     "name": "stdout",
     "output_type": "stream",
     "text": [
      "Employee record deleted successfully.\n",
      "Remaining Records:\n",
      "ID: 2\n",
      "Name: Abhishek\n",
      "Salary: 60000.00\n",
      "\n",
      "ID: 3\n",
      "Name: Dipak\n",
      "Salary: 55000.00\n",
      "\n"
     ]
    }
   ],
   "source": [
    "import mysql.connector\n",
    "\n",
    "try:\n",
    "    conn = mysql.connector.connect(\n",
    "        host=\"localhost\",\n",
    "        user=\"root\",\n",
    "        password=\"rootpass\",\n",
    "        database=\"python_database\"\n",
    "    )\n",
    "\n",
    "    cursor = conn.cursor()\n",
    "\n",
    "    employee_id_to_delete = 1\n",
    "    cursor.execute(\"DELETE FROM employees WHERE id = %s\", (employee_id_to_delete,))\n",
    "    conn.commit()\n",
    "    print(\"Employee record deleted successfully.\")\n",
    "\n",
    "    cursor.execute(\"SELECT * FROM employees\")\n",
    "    remaining_records = cursor.fetchall()\n",
    "\n",
    "    print(\"Remaining Records:\")\n",
    "    for record in remaining_records:\n",
    "        print(\"ID:\", record[0])\n",
    "        print(\"Name:\", record[1])\n",
    "        print(\"Salary:\", record[2])\n",
    "        print()\n",
    "\n",
    "except mysql.connector.Error as e:\n",
    "    print(\"Error connecting to MySQL:\", e)\n",
    "\n",
    "finally:\n",
    "    if 'conn' in locals() and conn.is_connected():\n",
    "        cursor.close()\n",
    "        conn.close()\n"
   ]
  },
  {
   "cell_type": "markdown",
   "id": "623455d5-9154-45a9-8130-74324e89359d",
   "metadata": {},
   "source": [
    "# 13. Write a Python program that demonstrates the use of transactions. Connect to a MySQL database, start a transaction, insert multiple records into a table, and commit the transaction."
   ]
  },
  {
   "cell_type": "code",
   "execution_count": 11,
   "id": "d1a01356-e97b-465c-a7ee-4b518f9d57d5",
   "metadata": {},
   "outputs": [
    {
     "name": "stdout",
     "output_type": "stream",
     "text": [
      "Transaction committed successfully.\n"
     ]
    }
   ],
   "source": [
    "import mysql.connector\n",
    "\n",
    "try:\n",
    "    conn = mysql.connector.connect(\n",
    "        host=\"localhost\",\n",
    "        user=\"root\",\n",
    "        password=\"rootpass\",\n",
    "        database=\"python_database\"\n",
    "    )\n",
    "\n",
    "    cursor = conn.cursor()\n",
    "\n",
    "    conn.start_transaction()\n",
    "\n",
    "    insert_query = \"INSERT INTO employees (name, salary) VALUES (%s, %s)\"\n",
    "    employees_data = [\n",
    "        (\"Harsh\", 50000),\n",
    "        (\"Aditya\", 60000),\n",
    "        (\"Puru\", 55000)\n",
    "    ]\n",
    "    cursor.executemany(insert_query, employees_data)\n",
    "\n",
    "    conn.commit()\n",
    "    print(\"Transaction committed successfully.\")\n",
    "\n",
    "except mysql.connector.Error as e:\n",
    "    conn.rollback()\n",
    "    print(\"Transaction rolled back due to error:\", e)\n",
    "\n",
    "finally:\n",
    "    if 'conn' in locals() and conn.is_connected():\n",
    "        cursor.close()\n",
    "        conn.close()\n"
   ]
  },
  {
   "cell_type": "markdown",
   "id": "470593d1-bd84-4b77-8f36-bbd69e9fec96",
   "metadata": {},
   "source": [
    "# 14. Create a program that connects to a MySQL database, starts a transaction, updates the salary of an employee, but rolls back the transaction if an error occurs during the update."
   ]
  },
  {
   "cell_type": "code",
   "execution_count": 9,
   "id": "9595e558-191c-4a6f-b68b-7ec1313ee53f",
   "metadata": {},
   "outputs": [
    {
     "name": "stdout",
     "output_type": "stream",
     "text": [
      "Transaction rolled back due to error during update: Simulated error during update\n"
     ]
    }
   ],
   "source": [
    "import mysql.connector\n",
    "\n",
    "try:\n",
    "    conn = mysql.connector.connect(\n",
    "        host=\"localhost\",\n",
    "        user=\"root\",\n",
    "        password=\"rootpass\",\n",
    "        database=\"python_database\"\n",
    "    )\n",
    "\n",
    "    cursor = conn.cursor()\n",
    "\n",
    "    conn.start_transaction()\n",
    "\n",
    "    employee_id_to_update = 4\n",
    "    new_salary = 65000\n",
    "    cursor.execute(\"UPDATE employees SET salary = %s WHERE id = %s\", (new_salary, employee_id_to_update))\n",
    "\n",
    "    raise Exception(\"Simulated error during update\")\n",
    "\n",
    "    conn.commit()\n",
    "    print(\"Transaction committed successfully.\")\n",
    "\n",
    "except Exception as e:\n",
    "    conn.rollback()\n",
    "    print(\"Transaction rolled back due to error during update:\", e)\n",
    "\n",
    "finally:\n",
    "    if 'conn' in locals() and conn.is_connected():\n",
    "        cursor.close()\n",
    "        conn.close()\n"
   ]
  },
  {
   "cell_type": "markdown",
   "id": "fabf9358-bebf-4544-992f-830503508431",
   "metadata": {},
   "source": [
    "# 15. Write a Python program that connects to a MySQL database, queries a table containing student grades, and calculates and prints the average grade."
   ]
  },
  {
   "cell_type": "code",
   "execution_count": 17,
   "id": "c9f8ea27-7385-4c17-92a0-be5f0e14aca9",
   "metadata": {},
   "outputs": [
    {
     "name": "stdout",
     "output_type": "stream",
     "text": [
      "Average Grade: 0\n"
     ]
    }
   ],
   "source": [
    "import mysql.connector\n",
    "\n",
    "try:\n",
    "    conn = mysql.connector.connect(\n",
    "        host=\"localhost\",\n",
    "        user=\"root\",\n",
    "        password=\"rootpass\",\n",
    "        database=\"student_grades\"\n",
    "    )\n",
    "\n",
    "    cursor = conn.cursor()\n",
    "\n",
    "    cursor.execute(\"SELECT grades FROM student_grades\")\n",
    "\n",
    "    grades = cursor.fetchall()\n",
    "\n",
    "    total_grades = sum(grade[0] for grade in grades)\n",
    "    num_grades = len(grades)\n",
    "\n",
    "    average_grade = total_grades / num_grades if num_grades > 0 else 0\n",
    "\n",
    "    print(\"Average Grade:\", average_grade)\n",
    "\n",
    "except mysql.connector.Error as e:\n",
    "    print(\"Error connecting to MySQL:\", e)\n",
    "\n",
    "finally:\n",
    "    if 'conn' in locals() and conn.is_connected():\n",
    "        cursor.close()\n",
    "        conn.close()\n"
   ]
  },
  {
   "cell_type": "markdown",
   "id": "a5b3008b-0a39-4dae-88c1-ad0c8af244cb",
   "metadata": {},
   "source": [
    "# 16. Create a program that connects to a MySQL database, queries a table containing customer orders, and prints the total revenue for a specific product."
   ]
  },
  {
   "cell_type": "code",
   "execution_count": 23,
   "id": "e4db4874-ac0e-4eae-931e-4f2fee2229c2",
   "metadata": {},
   "outputs": [
    {
     "name": "stdout",
     "output_type": "stream",
     "text": [
      "Total revenue for Product1: Rs 30.00\n"
     ]
    }
   ],
   "source": [
    "import mysql.connector\n",
    "\n",
    "try:\n",
    "    conn = mysql.connector.connect(\n",
    "        host=\"localhost\",\n",
    "        user=\"root\",\n",
    "        password=\"rootpass\",\n",
    "        database=\"python_database\"\n",
    "    )\n",
    "\n",
    "    cursor = conn.cursor()\n",
    "\n",
    "    product_name = \"Product1\"\n",
    "    cursor.execute(\"SELECT SUM(price * quantity) FROM orders WHERE product_name = %s\", (product_name,))\n",
    "\n",
    "    total_revenue = cursor.fetchone()[0]\n",
    "\n",
    "    print(f\"Total revenue for {product_name}: Rs {total_revenue}\")\n",
    "\n",
    "except mysql.connector.Error as e:\n",
    "    print(\"Error connecting to MySQL:\", e)\n",
    "\n",
    "finally:\n",
    "    if 'conn' in locals() and conn.is_connected():\n",
    "        cursor.close()\n",
    "        conn.close()\n"
   ]
  },
  {
   "cell_type": "markdown",
   "id": "4502f6b4-9270-4dcc-acbd-68b1e6943221",
   "metadata": {},
   "source": [
    "# 17. Write a Python program that connects to a MySQL database and uses a prepared statement to insert multiple records into a table."
   ]
  },
  {
   "cell_type": "code",
   "execution_count": 24,
   "id": "14aef3fd-abca-479b-b374-96fe187ba006",
   "metadata": {},
   "outputs": [
    {
     "name": "stdout",
     "output_type": "stream",
     "text": [
      "Records inserted successfully.\n"
     ]
    }
   ],
   "source": [
    "import mysql.connector\n",
    "\n",
    "try:\n",
    "    conn = mysql.connector.connect(\n",
    "        host=\"localhost\",\n",
    "        user=\"root\",\n",
    "        password=\"rootpass\",\n",
    "        database=\"python_database\"\n",
    "    )\n",
    "\n",
    "    cursor = conn.cursor(prepared=True)\n",
    "\n",
    "    insert_query = \"INSERT INTO customers (name, email) VALUES (%s, %s)\"\n",
    "    \n",
    "    records = [\n",
    "        ('Aaryan', 'aaryan@gmail.com'),\n",
    "        ('Aakash', 'aakash@gmail.com'),\n",
    "        ('Manoj', 'manoj@gmail.com')\n",
    "    ]\n",
    "\n",
    "    cursor.executemany(insert_query, records)\n",
    "\n",
    "    conn.commit()\n",
    "    print(\"Records inserted successfully.\")\n",
    "\n",
    "except mysql.connector.Error as e:\n",
    "    print(\"Error connecting to MySQL:\", e)\n",
    "\n",
    "finally:\n",
    "    if 'conn' in locals() and conn.is_connected():\n",
    "        cursor.close()\n",
    "        conn.close()\n"
   ]
  },
  {
   "cell_type": "markdown",
   "id": "b7b34f54-bfe1-49d1-8c7c-8f401f7583fe",
   "metadata": {},
   "source": [
    "# 18. Create a program that connects to a MySQL database, uses a prepared statement to update the salary of an employee, and then queries and prints the updated record."
   ]
  },
  {
   "cell_type": "code",
   "execution_count": 28,
   "id": "9af4f597-c47f-4188-9ec5-e2a9c250000c",
   "metadata": {},
   "outputs": [
    {
     "name": "stdout",
     "output_type": "stream",
     "text": [
      "Salary updated successfully.\n",
      "Updated Record:\n",
      "ID: 1\n",
      "Name: Yash\n",
      "Salary: 65000.00\n"
     ]
    }
   ],
   "source": [
    "import mysql.connector\n",
    "\n",
    "try:\n",
    "    conn = mysql.connector.connect(\n",
    "        host=\"localhost\",\n",
    "        user=\"root\",\n",
    "        password=\"rootpass\",\n",
    "        database=\"python_database\"\n",
    "    )\n",
    "\n",
    "    cursor = conn.cursor(prepared=True)\n",
    "\n",
    "    update_query = \"UPDATE employee SET salary = %s WHERE id = %s\"\n",
    "\n",
    "    employee_id_to_update = 1\n",
    "    new_salary = 65000\n",
    "\n",
    "    cursor.execute(update_query, (new_salary, employee_id_to_update))\n",
    "\n",
    "    conn.commit()\n",
    "    print(\"Salary updated successfully.\")\n",
    "\n",
    "    cursor.execute(\"SELECT * FROM employee WHERE id = %s\", (employee_id_to_update,))\n",
    "    updated_record = cursor.fetchone()\n",
    "\n",
    "    if updated_record is not None:\n",
    "        print(\"Updated Record:\")\n",
    "        print(\"ID:\", updated_record[0])\n",
    "        print(\"Name:\", updated_record[1])\n",
    "        print(\"Salary:\", updated_record[2])\n",
    "    else:\n",
    "        print(\"No record found for employee ID:\", employee_id_to_update)\n",
    "\n",
    "except mysql.connector.Error as e:\n",
    "    print(\"Error connecting to MySQL:\", e)\n",
    "\n",
    "finally:\n",
    "    if 'conn' in locals() and conn.is_connected():\n",
    "        cursor.close()\n",
    "        conn.close()\n"
   ]
  },
  {
   "cell_type": "markdown",
   "id": "f67eb87e-8494-4b95-a0aa-11490114ecdf",
   "metadata": {},
   "source": [
    "# 19. Write a Python program that connects to a MySQL database, creates two tables named students and courses, establishes a relationship between them, and inserts sample data."
   ]
  },
  {
   "cell_type": "code",
   "execution_count": 29,
   "id": "7c8dd12d-307b-4139-b64b-a741cac7fd45",
   "metadata": {},
   "outputs": [
    {
     "name": "stdout",
     "output_type": "stream",
     "text": [
      "Tables created and sample data inserted successfully.\n"
     ]
    }
   ],
   "source": [
    "import mysql.connector\n",
    "\n",
    "try:\n",
    "    conn = mysql.connector.connect(\n",
    "        host=\"localhost\",\n",
    "        user=\"root\",\n",
    "        password=\"rootpass\",\n",
    "        database=\"python_database\"\n",
    "    )\n",
    "\n",
    "    cursor = conn.cursor()\n",
    "\n",
    "    cursor.execute(\"\"\"\n",
    "    CREATE TABLE IF NOT EXISTS students (\n",
    "        student_id INT AUTO_INCREMENT PRIMARY KEY,\n",
    "        name VARCHAR(255),\n",
    "        age INT\n",
    "    )\n",
    "    \"\"\")\n",
    "\n",
    "    cursor.execute(\"\"\"\n",
    "    CREATE TABLE IF NOT EXISTS courses (\n",
    "        course_id INT AUTO_INCREMENT PRIMARY KEY,\n",
    "        course_name VARCHAR(255)\n",
    "    )\n",
    "    \"\"\")\n",
    "\n",
    "    cursor.execute(\"\"\"\n",
    "    CREATE TABLE IF NOT EXISTS student_courses (\n",
    "        student_id INT,\n",
    "        course_id INT,\n",
    "        FOREIGN KEY (student_id) REFERENCES students(student_id),\n",
    "        FOREIGN KEY (course_id) REFERENCES courses(course_id),\n",
    "        PRIMARY KEY (student_id, course_id)\n",
    "    )\n",
    "    \"\"\")\n",
    "\n",
    "    cursor.execute(\"INSERT INTO students (name, age) VALUES ('John', 20), ('Alice', 22), ('Bob', 21)\")\n",
    "\n",
    "    cursor.execute(\"INSERT INTO courses (course_name) VALUES ('Math'), ('Science'), ('History')\")\n",
    "\n",
    "    cursor.execute(\"INSERT INTO student_courses (student_id, course_id) VALUES (1, 1), (1, 2), (2, 2), (3, 3)\")\n",
    "\n",
    "    conn.commit()\n",
    "    print(\"Tables created and sample data inserted successfully.\")\n",
    "\n",
    "except mysql.connector.Error as e:\n",
    "    print(\"Error connecting to MySQL:\", e)\n",
    "\n",
    "finally:\n",
    "    if 'conn' in locals() and conn.is_connected():\n",
    "        cursor.close()\n",
    "        conn.close()\n"
   ]
  },
  {
   "cell_type": "markdown",
   "id": "bcae4cc2-8035-4947-b3e9-d631b7d52b75",
   "metadata": {},
   "source": [
    "# 20. Create a program that connects to a MySQL database, performs a JOIN operation on the students and courses tables, and prints the names of students along with the courses they are enrolled in."
   ]
  },
  {
   "cell_type": "code",
   "execution_count": 30,
   "id": "4c00f720-fd79-4a15-b916-b4167c2a5c6e",
   "metadata": {},
   "outputs": [
    {
     "name": "stdout",
     "output_type": "stream",
     "text": [
      "Names of Students and Their Enrolled Courses:\n",
      "Student: John - Course: Math\n",
      "Student: John - Course: Science\n",
      "Student: Alice - Course: Science\n",
      "Student: Bob - Course: History\n"
     ]
    }
   ],
   "source": [
    "import mysql.connector\n",
    "\n",
    "try:\n",
    "    conn = mysql.connector.connect(\n",
    "        host=\"localhost\",\n",
    "        user=\"root\",\n",
    "        password=\"rootpass\",\n",
    "        database=\"python_database\"\n",
    "    )\n",
    "\n",
    "    cursor = conn.cursor()\n",
    "\n",
    "    cursor.execute(\"\"\"\n",
    "    SELECT s.name AS student_name, c.course_name\n",
    "    FROM students s\n",
    "    JOIN student_courses sc ON s.student_id = sc.student_id\n",
    "    JOIN courses c ON sc.course_id = c.course_id\n",
    "    \"\"\")\n",
    "\n",
    "    rows = cursor.fetchall()\n",
    "\n",
    "    print(\"Names of Students and Their Enrolled Courses:\")\n",
    "    for row in rows:\n",
    "        print(\"Student:\", row[0], \"- Course:\", row[1])\n",
    "\n",
    "except mysql.connector.Error as e:\n",
    "    print(\"Error connecting to MySQL:\", e)\n",
    "\n",
    "finally:\n",
    "    if 'conn' in locals() and conn.is_connected():\n",
    "        cursor.close()\n",
    "        conn.close()\n"
   ]
  },
  {
   "cell_type": "code",
   "execution_count": null,
   "id": "858854a7-06e8-4c31-8d53-c8d175219fe5",
   "metadata": {},
   "outputs": [],
   "source": []
  }
 ],
 "metadata": {
  "kernelspec": {
   "display_name": "Python 3 (ipykernel)",
   "language": "python",
   "name": "python3"
  },
  "language_info": {
   "codemirror_mode": {
    "name": "ipython",
    "version": 3
   },
   "file_extension": ".py",
   "mimetype": "text/x-python",
   "name": "python",
   "nbconvert_exporter": "python",
   "pygments_lexer": "ipython3",
   "version": "3.12.1"
  }
 },
 "nbformat": 4,
 "nbformat_minor": 5
}
