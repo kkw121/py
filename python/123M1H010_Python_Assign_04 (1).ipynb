{
  "cells": [
    {
      "cell_type": "markdown",
      "metadata": {
        "id": "0pVePhs3_Xrz"
      },
      "source": [
        "**Name: Harshal Sanjay Bhamare**<br>\n",
        "**PRN: 123M1H010**<br>\n",
        "**Subject: Python Programming**<br>\n",
        "**Practical Assignment - 4**<br>"
      ]
    },
    {
      "cell_type": "code",
      "execution_count": null,
      "metadata": {
        "id": "iJsMdw0c_Xr0",
        "outputId": "82f70a86-eeb6-46c5-893b-6e3902b66471"
      },
      "outputs": [
        {
          "name": "stdout",
          "output_type": "stream",
          "text": [
            "This is text file!!!\n"
          ]
        }
      ],
      "source": [
        "#1. Write a Python program to read an entire text file.\n",
        "\n",
        "try:\n",
        "    with open(\"text.txt\", 'r') as f1:\n",
        "        print(f1.read())\n",
        "except:\n",
        "    print(\"Error has occured!!\")"
      ]
    },
    {
      "cell_type": "code",
      "execution_count": null,
      "metadata": {
        "id": "wVzZcJsJ_Xr1",
        "outputId": "7ee9e20c-0f37-41c4-a045-14ed024d041c"
      },
      "outputs": [
        {
          "name": "stdout",
          "output_type": "stream",
          "text": [
            "This is text file!!! This is new text.\n"
          ]
        }
      ],
      "source": [
        "#2. Write a Python program to append text to a file and display the text.\n",
        "\n",
        "text = input(\"Enter text: \")\n",
        "try:\n",
        "    with open(\"text.txt\",\"a+\") as f2:\n",
        "        f2.write(text)\n",
        "        f2.seek(0)\n",
        "        content = f2.read()\n",
        "        print(content)\n",
        "except:\n",
        "    print(\"Error has occured!!!\")\n"
      ]
    },
    {
      "cell_type": "code",
      "execution_count": null,
      "metadata": {
        "id": "TjoMx9nh_Xr1",
        "outputId": "dced3958-4244-427f-8e70-9b0da289183e"
      },
      "outputs": [
        {
          "name": "stdout",
          "output_type": "stream",
          "text": [
            "1: This is line 1\n",
            "\n",
            "2: This is line 2\n",
            "\n",
            "3: This is line 3\n"
          ]
        }
      ],
      "source": [
        "#3. Write a Python program to read a file line by line and store it into an array.\n",
        "\n",
        "try:\n",
        "    with open(\"lines.txt\",\"r\") as f1:\n",
        "        for i,line in enumerate(f1):\n",
        "            print(f\"{i+1}: {line}\")\n",
        "except:\n",
        "    print(\"Error has occured!!!\")\n"
      ]
    },
    {
      "cell_type": "code",
      "execution_count": 3,
      "metadata": {
        "colab": {
          "base_uri": "https://localhost:8080/"
        },
        "id": "RHV-3yob_Xr2",
        "outputId": "ba3dfd16-2d64-4af5-d5da-94a2a1e92e4f"
      },
      "outputs": [
        {
          "name": "stdout",
          "output_type": "stream",
          "text": [
            "Ayush\n"
          ]
        }
      ],
      "source": [
        "#4. Write a python program to find the longest words.\n",
        "\n",
        "try:\n",
        "    with open(\"words.txt\",\"r\") as f1:\n",
        "        data = f1.read().split(\" \")\n",
        "        max = \"\"\n",
        "        for i in data:\n",
        "            if len(max) < len(i):\n",
        "                max = i\n",
        "        print(max)\n",
        "except:\n",
        "    print(\"Error has occured!!\")\n"
      ]
    },
    {
      "cell_type": "code",
      "execution_count": null,
      "metadata": {
        "id": "Gd36Y0UH_Xr2"
      },
      "outputs": [],
      "source": [
        "#5. Write a Python program to create a file where all letters of the English alphabet are listed by a specified number of letters on each line.\n",
        "\n",
        "text = \"abcdefghijklmnopqrstuvwxyz\"\n",
        "try:\n",
        "    with open(\"alpa.txt\",\"w\") as f1:\n",
        "        for i in range(1,len(text)):\n",
        "            f1.write(f\"{i}: {text[:i]}\\n\")\n",
        "except:\n",
        "    print(\"Error has occured!!\")"
      ]
    },
    {
      "cell_type": "code",
      "execution_count": null,
      "metadata": {
        "id": "LVpSXvyx_Xr2"
      },
      "outputs": [],
      "source": [
        "#6. Implement a program that opens a file in write mode, but only if it doesn&#39;t already exist.\n",
        "\n",
        "import os\n",
        "\n",
        "if(os.path.exists(\"file1.txt\")):\n",
        "    print(\"File exists\")\n",
        "else:\n",
        "    try:\n",
        "        with open(\"file1.txt\",\"w\") as f1:\n",
        "            f1.write(\"Created!!\")\n",
        "    except:\n",
        "        print(\"Error\")"
      ]
    },
    {
      "cell_type": "code",
      "execution_count": null,
      "metadata": {
        "id": "RPFByZn4_Xr2",
        "outputId": "8500617f-2ecc-4b12-e418-c0dfe73604d3"
      },
      "outputs": [
        {
          "name": "stdout",
          "output_type": "stream",
          "text": [
            "pname: Sony Tv, price:  20000\n",
            "pname: PS-V, price:  30000\n"
          ]
        }
      ],
      "source": [
        "#7. Write code to read a CSV file containing product information and create a list of product objects.\n",
        "\n",
        "import csv\n",
        "\n",
        "class Product:\n",
        "    def __init__(self,pname,price):\n",
        "        self.pname = pname\n",
        "        self.price = price\n",
        "\n",
        "    def __str__(self):\n",
        "        return f\"pname: {self.pname}, price: {self.price}\"\n",
        "\n",
        "\n",
        "products = []\n",
        "\n",
        "try:\n",
        "    with open(\"products.csv\",'r') as f1:\n",
        "        cursor = csv.reader(f1)\n",
        "        next(cursor)\n",
        "        for line in cursor:\n",
        "            pname = line[0]\n",
        "            price = line[1]\n",
        "            products.append(Product(pname,price))\n",
        "except:\n",
        "    print(\"Error has occured\")\n",
        "\n",
        "for product in products:\n",
        "    print(product)"
      ]
    },
    {
      "cell_type": "code",
      "execution_count": null,
      "metadata": {
        "id": "qFD6S4jo_Xr2"
      },
      "outputs": [],
      "source": [
        "#8. Create a program that generates a CSV report from a list of dictionaries.\n",
        "\n",
        "import csv\n",
        "\n",
        "data = [{\"Name\":\"Pratik\",\"Role\":\"Manager\"},{\"Name\":\"Jesse\",\"Role\":\"Employee1\"},{\"Name\":\"Aniket\",\"Role\":\"Employee2\"}]\n",
        "\n",
        "with open(\"report.csv\",\"w\",newline=\"\") as f1:\n",
        "    writer = csv.DictWriter(f1, fieldnames=data[0].keys())\n",
        "    writer.writeheader()\n",
        "\n",
        "    for row in data:\n",
        "        writer.writerow(row)"
      ]
    },
    {
      "cell_type": "code",
      "execution_count": null,
      "metadata": {
        "id": "K7W2lNkd_Xr2",
        "outputId": "c6dcfba9-017b-42e6-935e-15fbd8215b3e"
      },
      "outputs": [
        {
          "name": "stdout",
          "output_type": "stream",
          "text": [
            "Line Count: 1\n",
            "Word Count: 4\n",
            "Character Count: 15\n",
            "Line: This is line 1\n",
            "\n",
            "Line Count: 2\n",
            "Word Count: 4\n",
            "Character Count: 15\n",
            "Line: This is line 2\n",
            "\n",
            "Line Count: 3\n",
            "Word Count: 4\n",
            "Character Count: 14\n",
            "Line: This is line 3\n"
          ]
        }
      ],
      "source": [
        "#9.Write a Python program that reads the contents of a text file and prints the number of lines, words, and characters in the file.\n",
        "\n",
        "lc = 0\n",
        "wc = 0\n",
        "cc = 0\n",
        "\n",
        "with open(\"lines.txt\",\"r\") as f1:\n",
        "    for line in f1:\n",
        "        lc += 1\n",
        "        wc = len(line.split())\n",
        "        cc = len(line)\n",
        "        print(f\"Line Count: {lc}\\n\\\n",
        "Word Count: {wc}\\n\\\n",
        "Character Count: {cc}\\n\\\n",
        "Line: {line}\")"
      ]
    },
    {
      "cell_type": "code",
      "execution_count": null,
      "metadata": {
        "id": "TuUsAmnL_Xr2"
      },
      "outputs": [],
      "source": [
        "#10. Create a program that takes user input to write a series of lines to a new text file. Ensure that each line is written to the file on a new line.\n",
        "\n",
        "\n",
        "with open(\"file2.txt\",\"w\") as f1:\n",
        "    condition = True\n",
        "    while(condition):\n",
        "        line = input(\"Enter line: \")\n",
        "        f1.write(line)\n",
        "        f1.write(\"\\n\")\n",
        "        c = input(\"Do you want to continue y/n: \")\n",
        "        match(c.lower()):\n",
        "            case \"y\": continue\n",
        "            case \"n\": condition = False"
      ]
    },
    {
      "cell_type": "code",
      "execution_count": 2,
      "metadata": {
        "colab": {
          "base_uri": "https://localhost:8080/"
        },
        "id": "HSW4U73P_Xr3",
        "outputId": "7f62350b-8399-4764-d3ad-f911e8f09f65"
      },
      "outputs": [
        {
          "data": {
            "text/plain": [
              "['Ayush', 'Harshal']"
            ]
          },
          "execution_count": 2,
          "metadata": {},
          "output_type": "execute_result"
        }
      ],
      "source": [
        "#11. Write a Python program that reads a CSV file containing student names and their corresponding scores. Calculate the average score and print the names of students with scores above the average.\n",
        "\n",
        "students = {}\n",
        "\n",
        "with open(\"students.csv\",\"r\") as f1:\n",
        "    next(f1)\n",
        "    for line in f1:\n",
        "        name, score = line.split(\",\")\n",
        "        students[name] = float(score)\n",
        "\n",
        "avg = sum(students.values())/len(students)\n",
        "names = [name for name,score in students.items() if score > avg]\n",
        "names"
      ]
    },
    {
      "cell_type": "code",
      "execution_count": null,
      "metadata": {
        "id": "NKoqFYul_Xr3"
      },
      "outputs": [],
      "source": [
        "#12. Write a Python program that appends a timestamp to each line of an existing text file, indicating when each line was last modified.\n",
        "\n",
        "import time\n",
        "\n",
        "with open(\"file3.txt\",\"w\") as f1:\n",
        "    condition = True\n",
        "    while(condition):\n",
        "        line = input(\"Enter line: \")\n",
        "        current_datetime = datetime.datetime.now()\n",
        "        current_datetime = current_datetime.strftime(\"%Y-%m-%d %H:%M:%S\")\n",
        "        f1.write(current_datetime + \" : \"+ line+\"\\n\")\n",
        "        c = input(\"Do you want to continue y/n: \")\n",
        "        match(c.lower()):\n",
        "            case \"y\": continue\n",
        "            case \"n\": condition = False\n"
      ]
    },
    {
      "cell_type": "code",
      "execution_count": null,
      "metadata": {
        "id": "-i7YqMuo_Xr3"
      },
      "outputs": [],
      "source": [
        "#13. Create a program that reads a binary file and counts the occurrences of a specific byte pattern. Handle the IOError exception and print a message if there is an issue with file I/O.\n",
        "\n",
        "try:\n",
        "    with open(\"binaryFile\",\"rb\") as f1:\n",
        "        content = f1.read()\n",
        "        count = content.count(b'\\x00')\n",
        "        print(count)\n",
        "except IOError as e:\n",
        "    print(f\"Error Occurred: {e}\")"
      ]
    },
    {
      "cell_type": "code",
      "execution_count": null,
      "metadata": {
        "id": "rj5lfXgi_Xr3",
        "outputId": "3418bfb2-b7c8-47a7-f56f-080a7e5d8ccf"
      },
      "outputs": [
        {
          "name": "stdout",
          "output_type": "stream",
          "text": [
            "Book found:\n",
            "Title: 1984\n",
            "Author: George Orwell\n",
            "Publisher: Signet Classic\n",
            "ISBN: 978-0451524935\n"
          ]
        }
      ],
      "source": [
        "#14. Write a Python program that reads a JSON file containing a list of books. Allow the user to search for a book by title and print its details if found.\n",
        "\n",
        "import json\n",
        "\n",
        "s = input(\"Enter book name: \")\n",
        "book_found = False\n",
        "with open(\"books.json\",\"r\") as f1:\n",
        "    books = json.load(f1)\n",
        "    for book in books:\n",
        "        if book[\"title\"].lower() == s.lower():\n",
        "            print(\"Book found:\")\n",
        "            print(\"Title:\", book['title'])\n",
        "            print(\"Author:\", book['author'])\n",
        "            print(\"Publisher:\", book['publisher'])\n",
        "            print(\"ISBN:\", book['isbn'])\n",
        "            book_found = True\n",
        "            break\n",
        "if(not (book_found)):\n",
        "   print(\"Book not found\")\n"
      ]
    },
    {
      "cell_type": "code",
      "execution_count": null,
      "metadata": {
        "id": "7HxsYYMk_Xr3"
      },
      "outputs": [],
      "source": [
        "#15. Write a Python program that creates a new directory and then creates multiple text files inside that directory, each with a different name and content.\n",
        "\n",
        "import os\n",
        "\n",
        "file_names = {\n",
        "    'file1.txt': 'This is the content of file1.txt.',\n",
        "    'file2.txt': 'This is the content of file2.txt.',\n",
        "    'file3.txt': 'This is the content of file3.txt.'\n",
        "}\n",
        "\n",
        "dir_name = \"directory\"\n",
        "os.mkdir(dir_name)\n",
        "for filename, content in file_names.items():\n",
        "    filePath = os.path.join(dir_name,filename)\n",
        "    with open(filePath,\"w\") as f1:\n",
        "        f1.write(content)"
      ]
    },
    {
      "cell_type": "code",
      "execution_count": null,
      "metadata": {
        "id": "CIpf7ywA_Xr3",
        "outputId": "af8cac5c-d991-40d4-da22-4de7fe89b9d6"
      },
      "outputs": [
        {
          "name": "stdout",
          "output_type": "stream",
          "text": [
            "Count of [2024-03-01 10: 6\n"
          ]
        }
      ],
      "source": [
        "#16. Create a program that reads a log file and extracts information about errors. Print the count of each type of error along with the corresponding error messages.\n",
        "\n",
        "\n",
        "errors = {}\n",
        "\n",
        "with open('example.log','r') as f1:\n",
        "    for line in f1:\n",
        "        if \"ERROR\" in line:\n",
        "            type = line.split(\":\")[0]\n",
        "            message = line.split(\":\")[1]\n",
        "            if type not in errors:\n",
        "                errors[type] = [message]\n",
        "            else:\n",
        "                errors[type].append(message)\n",
        "\n",
        "for type,message in errors.items():\n",
        "    print(f\"Count of {type}: {len(message)}\")\n",
        "\n"
      ]
    },
    {
      "cell_type": "code",
      "execution_count": null,
      "metadata": {
        "id": "1vnRfx4e_Xr3",
        "outputId": "b4695854-ac4f-4833-8cee-983730165140"
      },
      "outputs": [
        {
          "name": "stdout",
          "output_type": "stream",
          "text": [
            "gmail.com\n",
            "\n",
            "outlook.com\n",
            "\n",
            "icloud.com\n",
            "\n",
            "live.com\n",
            "\n",
            "hotmail.com\n",
            "\n",
            "yandex.com\n",
            "\n",
            "yahoo.com\n",
            "\n",
            "example.com\n",
            "\n",
            "protonmail.com\n",
            "\n",
            "aol.com\n",
            "\n"
          ]
        }
      ],
      "source": [
        "#17. Create a program that reads a text file containing a list of email addresses. Identify and print all unique domains present in the email addresses.\n",
        "\n",
        "domains = set()\n",
        "\n",
        "with open(\"emails.txt\",\"r\") as f1:\n",
        "    for line in f1:\n",
        "        temp = line.split(\"@\")[-1]\n",
        "        domains.add(temp)\n",
        "\n",
        "for i in domains:\n",
        "    print(i)"
      ]
    },
    {
      "cell_type": "code",
      "execution_count": null,
      "metadata": {
        "id": "UqzL5_ho_Xr3"
      },
      "outputs": [],
      "source": [
        "#18. Write a Python program that reads a binary file and performs encryption on its contents. Save the encrypted data to a new file.\n",
        "\n",
        "with open(\"binary.bin\",\"rb\") as f1:\n",
        "    with open(\"output.bin\",\"wb\") as f2:\n",
        "        for line in f1:\n",
        "            ecn = bytes( byte ^ 0xAA for byte in line)\n",
        "            f2.write(ecn)"
      ]
    },
    {
      "cell_type": "code",
      "execution_count": null,
      "metadata": {
        "id": "SX4_XbKL_Xr3",
        "outputId": "0e762fb6-484a-4e91-dcb8-b63960ee1a6d"
      },
      "outputs": [
        {
          "name": "stdout",
          "output_type": "stream",
          "text": [
            "Size : 62\n"
          ]
        }
      ],
      "source": [
        "#19. Write a Python program that accepts user input for a file path and checks whether the file exists. If it does, print the files size otherwise, print a message indicating that the file doesnt exist.\n",
        "\n",
        "import os\n",
        "\n",
        "filePath = input(\"Enter the file path: \")\n",
        "if os.path.exists(filePath):\n",
        "    size = os.path.getsize(filePath)\n",
        "    print(f\"Size : {size}\")\n",
        "else:\n",
        "    print(\"File doesn't exist.\")"
      ]
    },
    {
      "cell_type": "code",
      "execution_count": null,
      "metadata": {
        "id": "14ZklAAM_Xr4"
      },
      "outputs": [],
      "source": [
        "#20. Create a program that reads a JSON file containing information about employees. Allowthe user to add a new employee to the file and save the updated data.\n",
        "\n",
        "import json\n",
        "\n",
        "with open(\"emp.json\",\"r\") as f1:\n",
        "    empData = json.load(f1)\n",
        "\n",
        "name = input(\"Enter employee name: \")\n",
        "position = input(\"Enter employee position: \")\n",
        "salary = float(input(\"Enter employee salary: \"))\n",
        "\n",
        "new_employee = {\n",
        "    \"name\": name,\n",
        "    \"position\": position,\n",
        "    \"salary\": salary\n",
        "}\n",
        "\n",
        "empData.append(new_employee)\n",
        "\n",
        "with open(\"emp.json\",\"w\") as f2:\n",
        "    json.dump(empData,f2,indent=4)"
      ]
    }
  ],
  "metadata": {
    "colab": {
      "provenance": []
    },
    "kernelspec": {
      "display_name": "Python 3",
      "language": "python",
      "name": "python3"
    },
    "language_info": {
      "codemirror_mode": {
        "name": "ipython",
        "version": 3
      },
      "file_extension": ".py",
      "mimetype": "text/x-python",
      "name": "python",
      "nbconvert_exporter": "python",
      "pygments_lexer": "ipython3",
      "version": "3.12.1"
    }
  },
  "nbformat": 4,
  "nbformat_minor": 0
}
