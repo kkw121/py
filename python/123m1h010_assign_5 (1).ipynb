{
  "cells": [
    {
      "cell_type": "markdown",
      "metadata": {
        "id": "EdEhXqmjk5Cg"
      },
      "source": [
        "Create a Vehicle class with max_speed and mileage instance attributes and print\n",
        "max_speed and mileage."
      ]
    },
    {
      "cell_type": "code",
      "execution_count": 4,
      "metadata": {
        "colab": {
          "base_uri": "https://localhost:8080/"
        },
        "id": "VyROKMpYlGm4",
        "outputId": "5fe9a28b-27b1-44a0-a3db-592888cbe8d7"
      },
      "outputs": [
        {
          "name": "stdout",
          "output_type": "stream",
          "text": [
            "Max Speed: 120 km/hr\n",
            "Mileage: 21 km\n"
          ]
        }
      ],
      "source": [
        "class Vehicle:\n",
        "    def __init__(self, max_speed, mileage):\n",
        "        self.max_speed = max_speed\n",
        "        self.mileage = mileage\n",
        "\n",
        "    def display_info(self):\n",
        "        print(f\"Max Speed: {self.max_speed} km/hr\")\n",
        "        print(f\"Mileage: {self.mileage} km\")\n",
        "\n",
        "\n",
        "\n",
        "    car = Vehicle(120, 21)\n",
        "    car.display_info()\n"
      ]
    },
    {
      "cell_type": "markdown",
      "metadata": {
        "id": "kikk6CGPlqMy"
      },
      "source": [
        "Write a Python class to find a pair of elements (indices of the two numbers) from a\n",
        "given array whose sum equals a specific target number."
      ]
    },
    {
      "cell_type": "code",
      "execution_count": 6,
      "metadata": {
        "colab": {
          "base_uri": "https://localhost:8080/"
        },
        "id": "jrsYOkDDlrfV",
        "outputId": "096012f3-5c95-4afc-f53a-deb62a4d7319"
      },
      "outputs": [
        {
          "name": "stdout",
          "output_type": "stream",
          "text": [
            "Indices of the pair with sum 9: [0, 1]\n",
            "The numbers are 2 and 7\n"
          ]
        }
      ],
      "source": [
        "class PairFinder:\n",
        "    def find_pair_indices(self, nums, target):\n",
        "        num_indices = {}\n",
        "        for i, num in enumerate(nums):\n",
        "            complement = target - num\n",
        "            if complement in num_indices:\n",
        "                return [num_indices[complement], i]\n",
        "            num_indices[num] = i\n",
        "        return None\n",
        "\n",
        "# Example usage\n",
        "if __name__ == \"__main__\":\n",
        "    pair_finder = PairFinder()\n",
        "    nums = [2, 7, 11, 15]\n",
        "    target = 9\n",
        "    result = pair_finder.find_pair_indices(nums, target)\n",
        "    if result:\n",
        "        print(f\"Indices of the pair with sum {target}: {result}\")\n",
        "        print(f\"The numbers are {nums[result[0]]} and {nums[result[1]]}\")\n",
        "    else:\n",
        "        print(\"No pair found with the given sum.\")\n"
      ]
    },
    {
      "cell_type": "markdown",
      "metadata": {
        "id": "Rt29PMfnl8ST"
      },
      "source": [
        "Create a Bus child class that inherits from the Vehicle class. The default fare charge of\n",
        "any vehicle is seating capacity * 100. If Vehicle is a Bus instance, we need to add an\n",
        "extra 10% on the full fare as a maintenance charge. So total fare for bus instance will\n",
        "become the final amount = total fare + 10% of the total fare."
      ]
    },
    {
      "cell_type": "code",
      "execution_count": 7,
      "metadata": {
        "colab": {
          "base_uri": "https://localhost:8080/"
        },
        "id": "8L5hVu39l-Ph",
        "outputId": "c6dddea5-e489-43e9-cd57-0c64788cb841"
      },
      "outputs": [
        {
          "name": "stdout",
          "output_type": "stream",
          "text": [
            "Seating Capacity of the Bus: 50\n",
            "Total Fare for the Bus: 5500.0\n"
          ]
        }
      ],
      "source": [
        "class Vehicle:\n",
        "    def __init__(self, seating_capacity):\n",
        "        self.seating_capacity = seating_capacity\n",
        "\n",
        "    def fare_charge(self):\n",
        "        return self.seating_capacity * 100\n",
        "\n",
        "class Bus(Vehicle):\n",
        "    def __init__(self, seating_capacity):\n",
        "        super().__init__(seating_capacity)\n",
        "\n",
        "    def fare_charge(self):\n",
        "        base_fare = super().fare_charge()\n",
        "        maintenance_charge = base_fare * 0.1\n",
        "        total_fare = base_fare + maintenance_charge\n",
        "        return total_fare\n",
        "\n",
        "# Example usage\n",
        "if __name__ == \"__main__\":\n",
        "    bus = Bus(50)\n",
        "    print(\"Seating Capacity of the Bus:\", bus.seating_capacity)\n",
        "    print(\"Total Fare for the Bus:\", bus.fare_charge())\n"
      ]
    },
    {
      "cell_type": "markdown",
      "metadata": {
        "id": "C4gkQeCxmGRV"
      },
      "source": [
        "Write a Python class to convert an integer to a roman numeral."
      ]
    },
    {
      "cell_type": "code",
      "execution_count": 8,
      "metadata": {
        "colab": {
          "base_uri": "https://localhost:8080/"
        },
        "id": "1icpSra4mKRo",
        "outputId": "e98af6bc-c017-4e45-9fc8-5bd0ea75feb1"
      },
      "outputs": [
        {
          "name": "stdout",
          "output_type": "stream",
          "text": [
            "Roman numeral representation of 3549: MMMDXLIX\n"
          ]
        }
      ],
      "source": [
        "class IntegerToRoman:\n",
        "    def __init__(self):\n",
        "        self.int_to_roman_map = {\n",
        "            1: 'I', 4: 'IV', 5: 'V', 9: 'IX', 10: 'X',\n",
        "            40: 'XL', 50: 'L', 90: 'XC', 100: 'C',\n",
        "            400: 'CD', 500: 'D', 900: 'CM', 1000: 'M'\n",
        "        }\n",
        "        self.sorted_keys = sorted(self.int_to_roman_map.keys(), reverse=True)\n",
        "\n",
        "    def int_to_roman(self, num):\n",
        "        roman_numeral = ''\n",
        "        i = 0\n",
        "        while num > 0:\n",
        "            if num >= self.sorted_keys[i]:\n",
        "                quotient = num // self.sorted_keys[i]\n",
        "                roman_numeral += self.int_to_roman_map[self.sorted_keys[i]] * quotient\n",
        "                num %= self.sorted_keys[i]\n",
        "            else:\n",
        "                i += 1\n",
        "        return roman_numeral\n",
        "\n",
        "# Example usage\n",
        "if __name__ == \"__main__\":\n",
        "    converter = IntegerToRoman()\n",
        "    num = 3549\n",
        "    print(f\"Roman numeral representation of {num}: {converter.int_to_roman(num)}\")\n"
      ]
    },
    {
      "cell_type": "markdown",
      "metadata": {
        "id": "Khix6TZcm7EF"
      },
      "source": [
        "Write a Python class to find validity of a string of parentheses, &#39;(&#39;, &#39;)&#39;, &#39;{&#39;, &#39;}&#39;, &#39;[&#39; and &#39;]. These brackets must be close in the correct order, for example &quot;()&quot; and &quot;()[]{}&quot; are valid but &quot;[)&quot;, &quot;({[)]&quot; and &quot;{{{&quot; are invalid."
      ]
    },
    {
      "cell_type": "markdown",
      "metadata": {
        "id": "nA7egk8kk9ZU"
      },
      "source": []
    },
    {
      "cell_type": "code",
      "execution_count": 1,
      "metadata": {
        "colab": {
          "base_uri": "https://localhost:8080/"
        },
        "id": "RaCynmcamxsl",
        "outputId": "082edd74-63fd-404b-a233-d1be7a3f2be3"
      },
      "outputs": [
        {
          "name": "stdout",
          "output_type": "stream",
          "text": [
            "True\n",
            "True\n",
            "False\n",
            "False\n",
            "False\n"
          ]
        }
      ],
      "source": [
        "class BracketValidator:\n",
        "    def is_valid(self, s: str) -> bool:\n",
        "        stack = []\n",
        "        mapping = {')': '(', ']': '[', '}': '{'}\n",
        "        for char in s:\n",
        "            if char in mapping.values():\n",
        "                stack.append(char)\n",
        "            elif char in mapping.keys():\n",
        "                if not stack or mapping[char] != stack.pop():\n",
        "                    return False\n",
        "            else:\n",
        "\n",
        "                return False\n",
        "        return not stack\n",
        "\n",
        "\n",
        "validator = BracketValidator()\n",
        "print(validator.is_valid(\"()\"))\n",
        "print(validator.is_valid(\"()[]{}\"))\n",
        "print(validator.is_valid(\"[)\"))\n",
        "print(validator.is_valid(\"({[)]\"))\n",
        "print(validator.is_valid(\"{{{}\"))\n"
      ]
    },
    {
      "cell_type": "markdown",
      "metadata": {
        "id": "9LKzcCnonWsE"
      },
      "source": [
        "Write a Python program that defines a Car class. Include attributes like make, model,\n",
        "and year. Create an object of the class and print its details."
      ]
    },
    {
      "cell_type": "code",
      "execution_count": 2,
      "metadata": {
        "colab": {
          "base_uri": "https://localhost:8080/"
        },
        "id": "SppQUiu9ngDy",
        "outputId": "44467f7e-88d6-444a-b539-531ca9402462"
      },
      "outputs": [
        {
          "name": "stdout",
          "output_type": "stream",
          "text": [
            "Car Details:\n",
            "Make: Toyota, Model: Camry, Year: 2020\n"
          ]
        }
      ],
      "source": [
        "class Car:\n",
        "    def __init__(self, make, model, year):\n",
        "        self.make = make\n",
        "        self.model = model\n",
        "        self.year = year\n",
        "\n",
        "    def __str__(self):\n",
        "        return f\"Make: {self.make}, Model: {self.model}, Year: {self.year}\"\n",
        "\n",
        "# Creating an object of the Car class\n",
        "car1 = Car(\"Toyota\", \"Camry\", 2020)\n",
        "\n",
        "# Printing the details of the car\n",
        "print(\"Car Details:\")\n",
        "print(car1)\n"
      ]
    },
    {
      "cell_type": "markdown",
      "metadata": {
        "id": "6dQ1UXaTnl2X"
      },
      "source": [
        "Create a program that defines a Student class. Include attributes for name, age, and\n",
        "grade. Write a method to display the student&#39;s information."
      ]
    },
    {
      "cell_type": "code",
      "execution_count": 4,
      "metadata": {
        "colab": {
          "base_uri": "https://localhost:8080/"
        },
        "id": "XoDHLq7vnor3",
        "outputId": "f814117d-876b-4f1f-bf80-ec1681748646"
      },
      "outputs": [
        {
          "name": "stdout",
          "output_type": "stream",
          "text": [
            "Student Information:\n",
            "Name: Harshal\n",
            "Age: 15\n",
            "Grade: 10th\n"
          ]
        }
      ],
      "source": [
        "class Student:\n",
        "    def __init__(self, name, age, grade):\n",
        "        self.name = name\n",
        "        self.age = age\n",
        "        self.grade = grade\n",
        "\n",
        "    def display_info(self):\n",
        "        print(\"Student Information:\")\n",
        "        print(\"Name:\", self.name)\n",
        "        print(\"Age:\", self.age)\n",
        "        print(\"Grade:\", self.grade)\n",
        "\n",
        "\n",
        "student1 = Student(\"Harshal\", 15, \"10th\")\n",
        "\n",
        "\n",
        "student1.display_info()\n"
      ]
    },
    {
      "cell_type": "markdown",
      "metadata": {
        "id": "CZliZo9in0Cb"
      },
      "source": [
        "Write a Python program that uses a constructor to initialize an object of a Person class\n",
        "with a given name and age. Print the details of the person."
      ]
    },
    {
      "cell_type": "code",
      "execution_count": 6,
      "metadata": {
        "colab": {
          "base_uri": "https://localhost:8080/"
        },
        "id": "LiwkSzUen1pJ",
        "outputId": "2f2667e2-b1fe-4aa5-9b08-52215bbdd535"
      },
      "outputs": [
        {
          "name": "stdout",
          "output_type": "stream",
          "text": [
            "Person Details:\n",
            "Name: Ayush\n",
            "Age: 22\n"
          ]
        }
      ],
      "source": [
        "class Person:\n",
        "    def __init__(self, name, age):\n",
        "        self.name = name\n",
        "        self.age = age\n",
        "\n",
        "    def print_details(self):\n",
        "        print(\"Person Details:\")\n",
        "        print(\"Name:\", self.name)\n",
        "        print(\"Age:\", self.age)\n",
        "\n",
        "# Creating an object of the Person class with given name and age\n",
        "person1 = Person(\"Ayush\", 22)\n",
        "\n",
        "# Printing the details of the person\n",
        "person1.print_details()\n"
      ]
    },
    {
      "cell_type": "markdown",
      "metadata": {
        "id": "t-vA8HvzoGMq"
      },
      "source": [
        "Create a program that defines a Book class with a constructor that sets the book title\n",
        "and author. Use a destructor to print a message when an object is destroyed."
      ]
    },
    {
      "cell_type": "code",
      "execution_count": 7,
      "metadata": {
        "colab": {
          "base_uri": "https://localhost:8080/"
        },
        "id": "0CqQTlc7oKkT",
        "outputId": "bbc3ec8a-15cd-45f1-a3a0-312342340e93"
      },
      "outputs": [
        {
          "name": "stdout",
          "output_type": "stream",
          "text": [
            "The book 'To Kill a Mockingbird' by Harper Lee has been destroyed.\n"
          ]
        }
      ],
      "source": [
        "class Book:\n",
        "    def __init__(self, title, author):\n",
        "        self.title = title\n",
        "        self.author = author\n",
        "\n",
        "    def __del__(self):\n",
        "        print(f\"The book '{self.title}' by {self.author} has been destroyed.\")\n",
        "\n",
        "\n",
        "book1 = Book(\"To Kill a Mockingbird\", \"Harper Lee\")\n",
        "\n",
        "\n",
        "del book1\n",
        "\n"
      ]
    },
    {
      "cell_type": "markdown",
      "metadata": {
        "id": "htJ_nAdcofPz"
      },
      "source": [
        "Write a Python program that demonstrates inheritance. Define a base class Animal\n",
        "with a method make_sound(). Create derived classes Dog and Cat that override the\n",
        "method."
      ]
    },
    {
      "cell_type": "code",
      "execution_count": 8,
      "metadata": {
        "colab": {
          "base_uri": "https://localhost:8080/"
        },
        "id": "9q9ZcYO0oliI",
        "outputId": "81b0e7fa-56dc-47ec-c650-9319903f9390"
      },
      "outputs": [
        {
          "name": "stdout",
          "output_type": "stream",
          "text": [
            "Dog says: Woof!\n",
            "Cat says: Meow!\n"
          ]
        }
      ],
      "source": [
        "class Animal:\n",
        "    def make_sound(self):\n",
        "        pass\n",
        "\n",
        "class Dog(Animal):\n",
        "    def make_sound(self):\n",
        "        return \"Woof!\"\n",
        "\n",
        "class Cat(Animal):\n",
        "    def make_sound(self):\n",
        "        return \"Meow!\"\n",
        "\n",
        "# Creating objects of the derived classes and calling the make_sound() method\n",
        "dog = Dog()\n",
        "cat = Cat()\n",
        "\n",
        "print(\"Dog says:\", dog.make_sound())  # Output: Dog says: Woof!\n",
        "print(\"Cat says:\", cat.make_sound())  # Output: Cat says: Meow!\n"
      ]
    },
    {
      "cell_type": "markdown",
      "metadata": {
        "id": "OsjJKHt_o-p7"
      },
      "source": [
        "Create a program that models a basic shape hierarchy. Define a base class Shape with\n",
        "methods for calculating area and perimeter. Create subclasses for Circle and\n",
        "Rectangle."
      ]
    },
    {
      "cell_type": "code",
      "execution_count": 9,
      "metadata": {
        "colab": {
          "base_uri": "https://localhost:8080/"
        },
        "id": "Oky70U4Do_oL",
        "outputId": "8de90777-34e6-4467-dd4c-9f4f94d11a3e"
      },
      "outputs": [
        {
          "name": "stdout",
          "output_type": "stream",
          "text": [
            "Circle area: 78.53981633974483\n",
            "Circle perimeter: 31.41592653589793\n",
            "Rectangle area: 24\n",
            "Rectangle perimeter: 20\n"
          ]
        }
      ],
      "source": [
        "import math\n",
        "\n",
        "class Shape:\n",
        "    def area(self):\n",
        "        pass\n",
        "\n",
        "    def perimeter(self):\n",
        "        pass\n",
        "\n",
        "class Circle(Shape):\n",
        "    def __init__(self, radius):\n",
        "        self.radius = radius\n",
        "\n",
        "    def area(self):\n",
        "        return math.pi * self.radius**2\n",
        "\n",
        "    def perimeter(self):\n",
        "        return 2 * math.pi * self.radius\n",
        "\n",
        "class Rectangle(Shape):\n",
        "    def __init__(self, length, width):\n",
        "        self.length = length\n",
        "        self.width = width\n",
        "\n",
        "    def area(self):\n",
        "        return self.length * self.width\n",
        "\n",
        "    def perimeter(self):\n",
        "        return 2 * (self.length + self.width)\n",
        "\n",
        "# Creating objects of the derived classes and calculating area and perimeter\n",
        "circle = Circle(5)\n",
        "rectangle = Rectangle(4, 6)\n",
        "\n",
        "print(\"Circle area:\", circle.area())          # Output: Circle area: 78.53981633974483\n",
        "print(\"Circle perimeter:\", circle.perimeter())  # Output: Circle perimeter: 31.41592653589793\n",
        "\n",
        "print(\"Rectangle area:\", rectangle.area())      # Output: Rectangle area: 24\n",
        "print(\"Rectangle perimeter:\", rectangle.perimeter())  # Output: Rectangle perimeter: 20\n"
      ]
    },
    {
      "cell_type": "markdown",
      "metadata": {
        "id": "keACvzNipKKy"
      },
      "source": [
        "Write a Python program that demonstrates polymorphism. Define a class Shape with a\n",
        "method draw(). Create subclasses Circle and Square that implement the draw()\n",
        "method."
      ]
    },
    {
      "cell_type": "code",
      "execution_count": 10,
      "metadata": {
        "colab": {
          "base_uri": "https://localhost:8080/"
        },
        "id": "KYZq29kBpL6T",
        "outputId": "ed0b64bd-874a-4e09-d1a8-258fa4a43fc3"
      },
      "outputs": [
        {
          "name": "stdout",
          "output_type": "stream",
          "text": [
            "Drawing a circle\n",
            "Drawing a square\n"
          ]
        }
      ],
      "source": [
        "class Shape:\n",
        "    def draw(self):\n",
        "        pass\n",
        "\n",
        "class Circle(Shape):\n",
        "    def draw(self):\n",
        "        print(\"Drawing a circle\")\n",
        "\n",
        "class Square(Shape):\n",
        "    def draw(self):\n",
        "        print(\"Drawing a square\")\n",
        "\n",
        "# Creating objects of the derived classes and calling the draw() method\n",
        "circle = Circle()\n",
        "square = Square()\n",
        "\n",
        "circle.draw()   # Output: Drawing a circle\n",
        "square.draw()   # Output: Drawing a square\n"
      ]
    },
    {
      "cell_type": "markdown",
      "metadata": {
        "id": "Tq16OStOpRBw"
      },
      "source": [
        "Create a program that uses polymorphism to calculate the total cost of items in a\n",
        "shopping cart. Define a base class Item and subclasses for different types of items."
      ]
    },
    {
      "cell_type": "code",
      "execution_count": 13,
      "metadata": {
        "colab": {
          "base_uri": "https://localhost:8080/"
        },
        "id": "QzI0nBv7pVLf",
        "outputId": "a8260580-c00f-4b15-8ad2-82f403d5ef63"
      },
      "outputs": [
        {
          "name": "stdout",
          "output_type": "stream",
          "text": [
            "Total cost of items in the shopping cart: 1011.5\n"
          ]
        }
      ],
      "source": [
        "class Item:\n",
        "    def __init__(self, name, price):\n",
        "        self.name = name\n",
        "        self.price = price\n",
        "\n",
        "    def calculate_cost(self, quantity):\n",
        "        return self.price * quantity\n",
        "\n",
        "class GroceryItem(Item):\n",
        "    def __init__(self, name, price, weight):\n",
        "        super().__init__(name, price)\n",
        "        self.weight = weight\n",
        "\n",
        "    def calculate_cost(self, quantity):\n",
        "        return self.price * self.weight * quantity\n",
        "\n",
        "class ElectronicItem(Item):\n",
        "    def __init__(self, name, price, warranty):\n",
        "        super().__init__(name, price)\n",
        "        self.warranty = warranty\n",
        "\n",
        "    def calculate_cost(self, quantity):\n",
        "        return self.price * quantity + (10 * quantity)  # Assuming 10% tax for electronic items\n",
        "\n",
        "\n",
        "def calculate_total_cost(items):\n",
        "    total_cost = 0\n",
        "    for item in items:\n",
        "        total_cost += item.calculate_cost(item.quantity)\n",
        "    return total_cost\n",
        "\n",
        "\n",
        "grocery_item = GroceryItem(\"Apple\", 1.5, 0.2)\n",
        "grocery_item.quantity = 5\n",
        "\n",
        "electronic_item = ElectronicItem(\"Laptop\", 1000, \"2 years warranty\")\n",
        "electronic_item.quantity = 1\n",
        "\n",
        "total_cost = calculate_total_cost([grocery_item, electronic_item])\n",
        "print(\"Total cost of items in the shopping cart:\", total_cost)\n"
      ]
    },
    {
      "cell_type": "markdown",
      "metadata": {
        "id": "XfW9SVB5pbuW"
      },
      "source": [
        "Write a Python program that defines an abstract class Shape with abstract methods for\n",
        "calculating area and perimeter. Create subclasses Circle and Rectangle to implement\n",
        "these methods."
      ]
    },
    {
      "cell_type": "code",
      "execution_count": 14,
      "metadata": {
        "colab": {
          "base_uri": "https://localhost:8080/"
        },
        "id": "gblomQ4DpdFl",
        "outputId": "286c1f62-0db4-4109-dfdb-33a0d49bbc4c"
      },
      "outputs": [
        {
          "name": "stdout",
          "output_type": "stream",
          "text": [
            "Circle area: 78.53981633974483\n",
            "Circle perimeter: 31.41592653589793\n",
            "Rectangle area: 24\n",
            "Rectangle perimeter: 20\n"
          ]
        }
      ],
      "source": [
        "from abc import ABC, abstractmethod\n",
        "import math\n",
        "\n",
        "class Shape(ABC):\n",
        "    @abstractmethod\n",
        "    def area(self):\n",
        "        pass\n",
        "\n",
        "    @abstractmethod\n",
        "    def perimeter(self):\n",
        "        pass\n",
        "\n",
        "class Circle(Shape):\n",
        "    def __init__(self, radius):\n",
        "        self.radius = radius\n",
        "\n",
        "    def area(self):\n",
        "        return math.pi * self.radius**2\n",
        "\n",
        "    def perimeter(self):\n",
        "        return 2 * math.pi * self.radius\n",
        "\n",
        "class Rectangle(Shape):\n",
        "    def __init__(self, length, width):\n",
        "        self.length = length\n",
        "        self.width = width\n",
        "\n",
        "    def area(self):\n",
        "        return self.length * self.width\n",
        "\n",
        "    def perimeter(self):\n",
        "        return 2 * (self.length + self.width)\n",
        "\n",
        "circle = Circle(5)\n",
        "rectangle = Rectangle(4, 6)\n",
        "\n",
        "print(\"Circle area:\", circle.area())         \n",
        "print(\"Circle perimeter:\", circle.perimeter()) \n",
        "print(\"Rectangle area:\", rectangle.area())     \n",
        "print(\"Rectangle perimeter:\", rectangle.perimeter())  \n"
      ]
    },
    {
      "cell_type": "markdown",
      "metadata": {
        "id": "CExjbUO0p6-L"
      },
      "source": [
        "Create a program that defines an interface Payment with methods for processing\n",
        "payments. Implement the interface in classes CreditCardPayment and PayPalPayment."
      ]
    },
    {
      "cell_type": "code",
      "execution_count": 15,
      "metadata": {
        "colab": {
          "base_uri": "https://localhost:8080/"
        },
        "id": "A_63zpGHp-o1",
        "outputId": "d3dc85d6-11ab-462d-f5e4-42a9957e1f5d"
      },
      "outputs": [
        {
          "name": "stdout",
          "output_type": "stream",
          "text": [
            "Processing credit card payment of $100\n",
            "Processing PayPal payment of $50\n"
          ]
        }
      ],
      "source": [
        "from abc import ABC, abstractmethod\n",
        "\n",
        "class Payment(ABC):\n",
        "    @abstractmethod\n",
        "    def process_payment(self, amount):\n",
        "        pass\n",
        "\n",
        "class CreditCardPayment(Payment):\n",
        "    def process_payment(self, amount):\n",
        "        \n",
        "        print(f\"Processing credit card payment of ${amount}\")\n",
        "\n",
        "class PayPalPayment(Payment):\n",
        "    def process_payment(self, amount):\n",
        "       \n",
        "        print(f\"Processing PayPal payment of ${amount}\")\n",
        "\n",
        "\n",
        "credit_card_payment = CreditCardPayment()\n",
        "paypal_payment = PayPalPayment()\n",
        "\n",
        "credit_card_payment.process_payment(100)  \n",
        "paypal_payment.process_payment(50)      \n"
      ]
    },
    {
      "cell_type": "markdown",
      "metadata": {
        "id": "UhwLlxr_q-OW"
      },
      "source": [
        "Write a Python program that models a simple bank account hierarchy. Create a base\n",
        "class Account with attributes for account_number, account_holder, and balance.\n",
        "Create subclasses for SavingsAccount and CurrentAccount."
      ]
    },
    {
      "cell_type": "code",
      "execution_count": 16,
      "metadata": {
        "colab": {
          "base_uri": "https://localhost:8080/"
        },
        "id": "-YSEQilxsHtl",
        "outputId": "91010fb9-0ab0-4c54-c3c1-849511a88a51"
      },
      "outputs": [
        {
          "name": "stdout",
          "output_type": "stream",
          "text": [
            "Deposit of $200 successful. New balance: $1200\n",
            "Deposit of $60.0 successful. New balance: $1260.0\n",
            "Interest calculated and added to account. New balance: $1260.0\n",
            "Withdrawal of $700 successful. New balance: $-200\n",
            "Withdrawal exceeds overdraft limit.\n",
            "\n",
            "Savings Account Details:\n",
            "Account Number: SA123456\n",
            "Account Holder: Alice\n",
            "Balance: $1260.0\n",
            "\n",
            "Current Account Details:\n",
            "Account Number: CA987654\n",
            "Account Holder: Bob\n",
            "Balance: $-200\n"
          ]
        }
      ],
      "source": [
        "class Account:\n",
        "    def __init__(self, account_number, account_holder, balance):\n",
        "        self.account_number = account_number\n",
        "        self.account_holder = account_holder\n",
        "        self.balance = balance\n",
        "\n",
        "    def deposit(self, amount):\n",
        "        self.balance += amount\n",
        "        print(f\"Deposit of ${amount} successful. New balance: ${self.balance}\")\n",
        "\n",
        "    def withdraw(self, amount):\n",
        "        if amount <= self.balance:\n",
        "            self.balance -= amount\n",
        "            print(f\"Withdrawal of ${amount} successful. New balance: ${self.balance}\")\n",
        "        else:\n",
        "            print(\"Insufficient funds.\")\n",
        "\n",
        "    def display_balance(self):\n",
        "        print(f\"Account Number: {self.account_number}\")\n",
        "        print(f\"Account Holder: {self.account_holder}\")\n",
        "        print(f\"Balance: ${self.balance}\")\n",
        "\n",
        "\n",
        "class SavingsAccount(Account):\n",
        "    def __init__(self, account_number, account_holder, balance, interest_rate):\n",
        "        super().__init__(account_number, account_holder, balance)\n",
        "        self.interest_rate = interest_rate\n",
        "\n",
        "    def calculate_interest(self):\n",
        "        interest = self.balance * (self.interest_rate / 100)\n",
        "        self.deposit(interest)\n",
        "        print(f\"Interest calculated and added to account. New balance: ${self.balance}\")\n",
        "\n",
        "\n",
        "class CurrentAccount(Account):\n",
        "    def __init__(self, account_number, account_holder, balance, overdraft_limit):\n",
        "        super().__init__(account_number, account_holder, balance)\n",
        "        self.overdraft_limit = overdraft_limit\n",
        "\n",
        "    def withdraw(self, amount):\n",
        "        if amount <= self.balance + self.overdraft_limit:\n",
        "            self.balance -= amount\n",
        "            print(f\"Withdrawal of ${amount} successful. New balance: ${self.balance}\")\n",
        "        else:\n",
        "            print(\"Withdrawal exceeds overdraft limit.\")\n",
        "\n",
        "\n",
        "# Example usage:\n",
        "savings_account = SavingsAccount(\"SA123456\", \"Alice\", 1000, 5)\n",
        "current_account = CurrentAccount(\"CA987654\", \"Bob\", 500, 200)\n",
        "\n",
        "savings_account.deposit(200)\n",
        "savings_account.calculate_interest()\n",
        "\n",
        "current_account.withdraw(700)\n",
        "current_account.withdraw(300)\n",
        "\n",
        "print(\"\\nSavings Account Details:\")\n",
        "savings_account.display_balance()\n",
        "\n",
        "print(\"\\nCurrent Account Details:\")\n",
        "current_account.display_balance()\n"
      ]
    },
    {
      "cell_type": "markdown",
      "metadata": {
        "id": "B3m9qtaisTVm"
      },
      "source": [
        "Create a program that simulates a zoo. Define a base class Animal with attributes for\n",
        "name and sound. Create subclasses for different types of animals (e.g., Lion,\n",
        "Elephant) that inherit from the Animal class."
      ]
    },
    {
      "cell_type": "code",
      "execution_count": 17,
      "metadata": {
        "colab": {
          "base_uri": "https://localhost:8080/"
        },
        "id": "N6_ppRLXsaxH",
        "outputId": "ab272226-b4c2-47cf-abda-3ff9fdc18424"
      },
      "outputs": [
        {
          "name": "stdout",
          "output_type": "stream",
          "text": [
            "Simba says roar\n",
            "Dumbo says trumpet\n",
            "Geoffrey says snort\n"
          ]
        }
      ],
      "source": [
        "class Animal:\n",
        "    def __init__(self, name, sound):\n",
        "        self.name = name\n",
        "        self.sound = sound\n",
        "\n",
        "    def make_sound(self):\n",
        "        return f\"{self.name} says {self.sound}\"\n",
        "\n",
        "class Lion(Animal):\n",
        "    def __init__(self, name):\n",
        "        super().__init__(name, \"roar\")\n",
        "\n",
        "class Elephant(Animal):\n",
        "    def __init__(self, name):\n",
        "        super().__init__(name, \"trumpet\")\n",
        "\n",
        "class Giraffe(Animal):\n",
        "    def __init__(self, name):\n",
        "        super().__init__(name, \"snort\")\n",
        "\n",
        "lion = Lion(\"Simba\")\n",
        "elephant = Elephant(\"Dumbo\")\n",
        "giraffe = Giraffe(\"Geoffrey\")\n",
        "\n",
        "\n",
        "print(lion.make_sound())       \n",
        "print(elephant.make_sound())   \n",
        "print(giraffe.make_sound())   \n"
      ]
    },
    {
      "cell_type": "markdown",
      "metadata": {
        "id": "wc5H11jBsxaE"
      },
      "source": [
        "Create a program that models different types of vehicles. Define a base class Vehicle\n",
        "with methods for start_engine() and stop_engine(). Create subclasses for Car and\n",
        "Motorcycle that implement these methods."
      ]
    },
    {
      "cell_type": "code",
      "execution_count": 18,
      "metadata": {
        "colab": {
          "base_uri": "https://localhost:8080/"
        },
        "id": "dyhUXOVJswUB",
        "outputId": "e5904c83-8410-4161-87f4-9d2a2f871023"
      },
      "outputs": [
        {
          "name": "stdout",
          "output_type": "stream",
          "text": [
            "Car engine started.\n",
            "Car engine stopped.\n",
            "Motorcycle engine started.\n",
            "Motorcycle engine stopped.\n"
          ]
        }
      ],
      "source": [
        "class Vehicle:\n",
        "    def start_engine(self):\n",
        "        pass\n",
        "\n",
        "    def stop_engine(self):\n",
        "        pass\n",
        "\n",
        "class Car(Vehicle):\n",
        "    def start_engine(self):\n",
        "        print(\"Car engine started.\")\n",
        "\n",
        "    def stop_engine(self):\n",
        "        print(\"Car engine stopped.\")\n",
        "\n",
        "class Motorcycle(Vehicle):\n",
        "    def start_engine(self):\n",
        "        print(\"Motorcycle engine started.\")\n",
        "\n",
        "    def stop_engine(self):\n",
        "        print(\"Motorcycle engine stopped.\")\n",
        "\n",
        "# Example usage\n",
        "if __name__ == \"__main__\":\n",
        "    car = Car()\n",
        "    motorcycle = Motorcycle()\n",
        "\n",
        "    car.start_engine()\n",
        "    car.stop_engine()\n",
        "\n",
        "    motorcycle.start_engine()\n",
        "    motorcycle.stop_engine()\n"
      ]
    },
    {
      "cell_type": "markdown",
      "metadata": {
        "id": "GaAwS4uKtDFN"
      },
      "source": [
        "Write a Python program that simulates a university course registration system. Define\n",
        "a base class Course with methods for enrolling and dropping students. Create\n",
        "subclasses for different types of courses (e.g., MathCourse, HistoryCourse)."
      ]
    },
    {
      "cell_type": "code",
      "execution_count": 20,
      "metadata": {
        "colab": {
          "base_uri": "https://localhost:8080/"
        },
        "id": "OHMTCyvItJiW",
        "outputId": "8e1b95cf-61aa-4f74-ddea-94ac3cbdb275"
      },
      "outputs": [
        {
          "name": "stdout",
          "output_type": "stream",
          "text": [
            "Harshal enrolled in Mathematics\n",
            "Pratham enrolled in Mathematics\n",
            "Harshal enrolled in History\n",
            "Ayush enrolled in History\n",
            "kunal is not enrolled in Mathematics\n",
            "vaibhav is not enrolled in Mathematics\n",
            "dnyneshwar is not enrolled in History\n"
          ]
        }
      ],
      "source": [
        "class Course:\n",
        "    def __init__(self, course_name):\n",
        "        self.course_name = course_name\n",
        "        self.students = []\n",
        "\n",
        "    def enroll_student(self, student_name):\n",
        "        self.students.append(student_name)\n",
        "        print(f\"{student_name} enrolled in {self.course_name}\")\n",
        "\n",
        "    def drop_student(self, student_name):\n",
        "        if student_name in self.students:\n",
        "            self.students.remove(student_name)\n",
        "            print(f\"{student_name} dropped from {self.course_name}\")\n",
        "        else:\n",
        "            print(f\"{student_name} is not enrolled in {self.course_name}\")\n",
        "\n",
        "class MathCourse(Course):\n",
        "    def __init__(self, course_name):\n",
        "        super().__init__(course_name)\n",
        "\n",
        "class HistoryCourse(Course):\n",
        "    def __init__(self, course_name):\n",
        "        super().__init__(course_name)\n",
        "\n",
        "# Example usage\n",
        "if __name__ == \"__main__\":\n",
        "    math_course = MathCourse(\"Mathematics\")\n",
        "    history_course = HistoryCourse(\"History\")\n",
        "\n",
        "    math_course.enroll_student(\"Harshal\")\n",
        "    math_course.enroll_student(\"Pratham\")\n",
        "\n",
        "    history_course.enroll_student(\"Harshal\")\n",
        "    history_course.enroll_student(\"Ayush\")\n",
        "\n",
        "    math_course.drop_student(\"kunal\")\n",
        "    math_course.drop_student(\"vaibhav\")  \n",
        "\n",
        "    history_course.drop_student(\"dnyneshwar\")\n",
        "\n"
      ]
    },
    {
      "cell_type": "markdown",
      "metadata": {
        "id": "GnOSgpG5tf_b"
      },
      "source": [
        "Create a program that models a shape drawing application. Define a base class\n",
        "DrawingTool with methods for drawing shapes. Create subclasses for different types\n",
        "of drawing tools (e.g., PenTool, BrushTool) with specific drawing behavior."
      ]
    },
    {
      "cell_type": "code",
      "execution_count": 21,
      "metadata": {
        "colab": {
          "base_uri": "https://localhost:8080/"
        },
        "id": "FXK0-iXhthWS",
        "outputId": "e6356e22-713a-407d-d6d7-7b569bd6d93e"
      },
      "outputs": [
        {
          "name": "stdout",
          "output_type": "stream",
          "text": [
            "Drawing shape with a pen.\n",
            "Drawing shape with a brush.\n",
            "Drawing shape with a pencil.\n"
          ]
        }
      ],
      "source": [
        "class DrawingTool:\n",
        "    def draw_shape(self):\n",
        "        pass\n",
        "\n",
        "class PenTool(DrawingTool):\n",
        "    def draw_shape(self):\n",
        "        print(\"Drawing shape with a pen.\")\n",
        "\n",
        "class BrushTool(DrawingTool):\n",
        "    def draw_shape(self):\n",
        "        print(\"Drawing shape with a brush.\")\n",
        "\n",
        "class PencilTool(DrawingTool):\n",
        "    def draw_shape(self):\n",
        "        print(\"Drawing shape with a pencil.\")\n",
        "\n",
        "\n",
        "\n",
        "    pen = PenTool()\n",
        "    brush = BrushTool()\n",
        "    pencil = PencilTool()\n",
        "\n",
        "    pen.draw_shape()    \n",
        "    brush.draw_shape()  \n",
        "    pencil.draw_shape() "
      ]
    },
    {
      "cell_type": "markdown",
      "metadata": {},
      "source": [
        "Write a Python program that demonstrates polymorphism. Define a class Shape with a\n",
        "method draw(). Create subclasses Circle and Square that implement the draw()\n",
        "method."
      ]
    },
    {
      "cell_type": "code",
      "execution_count": 1,
      "metadata": {},
      "outputs": [
        {
          "name": "stdout",
          "output_type": "stream",
          "text": [
            "Drawing a Circle\n",
            "Drawing a Square\n"
          ]
        }
      ],
      "source": [
        "class Shape:\n",
        "    def draw(self):\n",
        "        raise NotImplementedError(\"Subclasses must implement draw()\")\n",
        "\n",
        "\n",
        "class Circle(Shape):\n",
        "    def draw(self):\n",
        "        print(\"Drawing a Circle\")\n",
        "\n",
        "\n",
        "class Square(Shape):\n",
        "    def draw(self):\n",
        "        print(\"Drawing a Square\")\n",
        "\n",
        "\n",
        "# Creating objects of different shapes\n",
        "circle = Circle()\n",
        "square = Square()\n",
        "\n",
        "# Polymorphism: calling draw method on different objects\n",
        "circle.draw()\n",
        "square.draw()\n"
      ]
    },
    {
      "cell_type": "markdown",
      "metadata": {},
      "source": [
        "Create a program that uses polymorphism to calculate the total cost of items in a\n",
        "shopping cart. Define a base class Item and subclasses for different types of items."
      ]
    },
    {
      "cell_type": "code",
      "execution_count": 12,
      "metadata": {},
      "outputs": [
        {
          "name": "stdout",
          "output_type": "stream",
          "text": [
            "Total cost of items in the shopping cart: 1001.0\n"
          ]
        }
      ],
      "source": [
        "class Item:\n",
        "    def __init__(self, name, price):\n",
        "        self.name = name\n",
        "        self.price = price\n",
        "\n",
        "    def calculate_cost(self, quantity):\n",
        "        return self.price * quantity\n",
        "\n",
        "\n",
        "class GroceryItem(Item):\n",
        "    def __init__(self, name, price, weight):\n",
        "        super().__init__(name, price)\n",
        "        self.weight = weight\n",
        "\n",
        "    def calculate_cost(self, quantity):\n",
        "        return self.price * self.weight * quantity\n",
        "\n",
        "\n",
        "class ElectronicsItem(Item):\n",
        "    def __init__(self, name, price, quantity):\n",
        "        super().__init__(name, price)\n",
        "        self.quantity = quantity\n",
        "\n",
        "    def calculate_cost(self, quantity):\n",
        "        return self.price * self.quantity\n",
        "\n",
        "\n",
        "# Function to calculate total cost\n",
        "def calculate_total_cost(items):\n",
        "    total_cost = 0\n",
        "    for item in items:\n",
        "        total_cost += item.calculate_cost(1)  # Fix: quantity should be 1\n",
        "    return total_cost\n",
        "\n",
        "\n",
        "# Creating instances of different items\n",
        "grocery_item = GroceryItem(\"Apple\", 2, 0.5)\n",
        "electronics_item = ElectronicsItem(\"Laptop\", 1000, 1)\n",
        "\n",
        "# Adding items to shopping cart\n",
        "shopping_cart = [grocery_item, electronics_item]\n",
        "\n",
        "# Calculating total cost\n",
        "total_cost = calculate_total_cost(shopping_cart)\n",
        "print(\"Total cost of items in the shopping cart:\", total_cost)\n"
      ]
    },
    {
      "cell_type": "markdown",
      "metadata": {},
      "source": [
        "Write a Python program that defines an abstract class Shape with abstract methods for\n",
        "calculating area and perimeter. Create subclasses Circle and Rectangle to implement\n",
        "these methods."
      ]
    },
    {
      "cell_type": "code",
      "execution_count": 13,
      "metadata": {},
      "outputs": [
        {
          "name": "stdout",
          "output_type": "stream",
          "text": [
            "Area of Circle: 78.53981633974483\n",
            "Perimeter of Circle: 31.41592653589793\n",
            "Area of Rectangle: 24\n",
            "Perimeter of Rectangle: 20\n"
          ]
        }
      ],
      "source": [
        "from abc import ABC, abstractmethod\n",
        "import math\n",
        "\n",
        "class Shape(ABC):\n",
        "    @abstractmethod\n",
        "    def area(self):\n",
        "        pass\n",
        "    \n",
        "    @abstractmethod\n",
        "    def perimeter(self):\n",
        "        pass\n",
        "\n",
        "class Circle(Shape):\n",
        "    def __init__(self, radius):\n",
        "        self.radius = radius\n",
        "    \n",
        "    def area(self):\n",
        "        return math.pi * self.radius ** 2\n",
        "    \n",
        "    def perimeter(self):\n",
        "        return 2 * math.pi * self.radius\n",
        "\n",
        "class Rectangle(Shape):\n",
        "    def __init__(self, width, height):\n",
        "        self.width = width\n",
        "        self.height = height\n",
        "    \n",
        "    def area(self):\n",
        "        return self.width * self.height\n",
        "    \n",
        "    def perimeter(self):\n",
        "        return 2 * (self.width + self.height)\n",
        "\n",
        "# Creating instances of Circle and Rectangle\n",
        "circle = Circle(5)\n",
        "rectangle = Rectangle(4, 6)\n",
        "\n",
        "# Calculating area and perimeter\n",
        "print(\"Area of Circle:\", circle.area())\n",
        "print(\"Perimeter of Circle:\", circle.perimeter())\n",
        "print(\"Area of Rectangle:\", rectangle.area())\n",
        "print(\"Perimeter of Rectangle:\", rectangle.perimeter())\n"
      ]
    }
  ],
  "metadata": {
    "colab": {
      "provenance": []
    },
    "kernelspec": {
      "display_name": "Python 3",
      "name": "python3"
    },
    "language_info": {
      "codemirror_mode": {
        "name": "ipython",
        "version": 3
      },
      "file_extension": ".py",
      "mimetype": "text/x-python",
      "name": "python",
      "nbconvert_exporter": "python",
      "pygments_lexer": "ipython3",
      "version": "3.12.2"
    }
  },
  "nbformat": 4,
  "nbformat_minor": 0
}
