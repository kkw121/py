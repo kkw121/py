{
  "cells": [
    {
      "cell_type": "markdown",
      "metadata": {},
      "source": [
        "NAME:HARSHAL SANJAY BHAMARE\n",
        "PRN:123M1H010"
      ]
    },
    {
      "cell_type": "code",
      "execution_count": null,
      "metadata": {
        "colab": {
          "base_uri": "https://localhost:8080/"
        },
        "id": "2xiMKR2Qt1I4",
        "outputId": "ee87f509-b3f9-4d48-dcbc-09241395f031"
      },
      "outputs": [
        {
          "name": "stdout",
          "output_type": "stream",
          "text": [
            "Enter any number :10\n",
            "Correct it is a number\n"
          ]
        }
      ],
      "source": [
        "#    1. Write a Python program to input a number, if it is not a number generate an error message.\n",
        "try:\n",
        "  n=int(input(\"Enter any number :\"))\n",
        "  print(\"Correct it is a number\")\n",
        "except:\n",
        "  print(\"Not a number\")"
      ]
    },
    {
      "cell_type": "code",
      "execution_count": null,
      "metadata": {
        "colab": {
          "base_uri": "https://localhost:8080/"
        },
        "id": "aE33P8E6ueYD",
        "outputId": "a376417f-6199-4728-ee0b-cdf9efc8ba94"
      },
      "outputs": [
        {
          "name": "stdout",
          "output_type": "stream",
          "text": [
            "enter a : 10\n",
            "enter b : 0\n",
            "cant divide by zero\n"
          ]
        }
      ],
      "source": [
        "#    2. Write a Python program to catch ZeroDivisionError. Accept the values from the user.\n",
        "a=int(input(\"enter a : \"))\n",
        "b=int(input(\"enter b : \"))\n",
        "try:\n",
        "  c=a/b\n",
        "  print(\"Division : \",c)\n",
        "except:\n",
        "  print(\"cant divide by zero\")"
      ]
    },
    {
      "cell_type": "code",
      "execution_count": null,
      "metadata": {
        "colab": {
          "base_uri": "https://localhost:8080/"
        },
        "id": "h_zLh1Jpuecg",
        "outputId": "a4486c7b-a933-4ce5-e60b-4fd17e787bbc"
      },
      "outputs": [
        {
          "name": "stdout",
          "output_type": "stream",
          "text": [
            "Enyter any number :-10\n",
            "Custom PythonException raised: Negative Number Exception \n"
          ]
        }
      ],
      "source": [
        "#    3. Write a Python Program to Raise Custom Exception “PythonException”\n",
        "\n",
        "class PythonException(Exception):\n",
        "    \"\"\"Custom exceptio n class for PythonException.\"\"\"\n",
        "    pass\n",
        "def raise_exception():\n",
        "    \"\"\"Function to raise PythonException.\"\"\"\n",
        "    raise PythonException(\"Negative Number Exception \")\n",
        "\n",
        "try:\n",
        "  n=int(input(\"Enyter any number :\"))\n",
        "  if(n<0):\n",
        "    raise_exception()\n",
        "  else:\n",
        "    print(\"Correct\")\n",
        "except PythonException as e:\n",
        "    print(\"Custom PythonException raised:\", e)\n"
      ]
    },
    {
      "cell_type": "code",
      "execution_count": null,
      "metadata": {
        "colab": {
          "base_uri": "https://localhost:8080/"
        },
        "id": "njgp6Bm_uegg",
        "outputId": "d5d4c9d1-15ae-47df-cb82-c1ce556afb6d"
      },
      "outputs": [
        {
          "name": "stdout",
          "output_type": "stream",
          "text": [
            "Enter value of a :2\n",
            "Enter value of b :0\n",
            "Cant divide by zero \n"
          ]
        }
      ],
      "source": [
        "#    4. Write a Python Program to demonstrate the use of try...except...else clause.\n",
        "a=int(input(\"Enter value of a :\"))\n",
        "b=int(input(\"Enter value of b :\"))\n",
        "try:\n",
        "  c=a/b\n",
        "except ZeroDivisionError:\n",
        "  print(\"Cant divide by zero \")\n",
        "else:\n",
        "  print(\"Division : \",c)\n",
        "\n",
        "\n",
        "\n"
      ]
    },
    {
      "cell_type": "code",
      "execution_count": null,
      "metadata": {
        "colab": {
          "base_uri": "https://localhost:8080/"
        },
        "id": "r0aqqgveuejy",
        "outputId": "573c32f6-b647-4f8a-f45d-c19ae7090ddf"
      },
      "outputs": [
        {
          "name": "stdout",
          "output_type": "stream",
          "text": [
            "Enter value of a :2\n",
            "Enter value of b :0\n",
            "Cant divide by zero \n",
            "Finally block executing \n"
          ]
        }
      ],
      "source": [
        "#    5. Write a Python Program to demonstrate the use of try...except...finally clause\n",
        "a=int(input(\"Enter value of a :\"))\n",
        "b=int(input(\"Enter value of b :\"))\n",
        "try:\n",
        "  c=a/b\n",
        "except ZeroDivisionError:\n",
        "  print(\"Cant divide by zero \")\n",
        "else:\n",
        "  print(\"Division : \",c)\n",
        "\n",
        "finally:\n",
        "  print(\"Finally block executing \")"
      ]
    },
    {
      "cell_type": "code",
      "execution_count": null,
      "metadata": {
        "colab": {
          "base_uri": "https://localhost:8080/"
        },
        "id": "ekdQwKsCuemw",
        "outputId": "b749ff61-2037-4f93-9029-f5a05373bb93"
      },
      "outputs": [
        {
          "name": "stdout",
          "output_type": "stream",
          "text": [
            "Please enter an integer: 2.3\n",
            "Error: Invalid input! Please enter an integer.\n",
            "Please enter an integer: as\n",
            "Error: Invalid input! Please enter an integer.\n",
            "Please enter an integer: 3\n",
            "You entered: 3\n"
          ]
        }
      ],
      "source": [
        "#    6. Implement a program that handles both ValueError and TypeError exceptions when reading user input.\n",
        "def read():\n",
        "    while True:\n",
        "        try:\n",
        "            num = int(input(\"Please enter an integer: \"))\n",
        "            return num\n",
        "        except ValueError:\n",
        "            print(\"Error: Invalid input! Please enter an integer.\")\n",
        "        except TypeError:\n",
        "            print(\"Error: Invalid input type! Please enter an integer.\")\n",
        "\n",
        "try:\n",
        "    result= read()\n",
        "    print(\"You entered:\", result)\n",
        "except KeyboardInterrupt:\n",
        "    print(\"\\nProgram terminated by user.\")\n"
      ]
    },
    {
      "cell_type": "code",
      "execution_count": null,
      "metadata": {
        "colab": {
          "base_uri": "https://localhost:8080/"
        },
        "id": "3StuqwmauepZ",
        "outputId": "0165bf58-b818-4283-d51b-3274fec291c0"
      },
      "outputs": [
        {
          "name": "stdout",
          "output_type": "stream",
          "text": [
            "Enter any number :-12\n",
            "invalid input\n"
          ]
        }
      ],
      "source": [
        "#    7. Create a custom exception class called NegativeNumberError to signal invalid input.\n",
        "class NegativeNumberError(Exception):\n",
        "  pass\n",
        "def error():\n",
        "  raise NegativeNumberError(\"invalid input\")\n",
        "\n",
        "n=int(input(\"Enter any number :\"))\n",
        "try:\n",
        "  if n<0:\n",
        "    error()\n",
        "except ValueError:\n",
        "      print(\"Error: Invalid input! Please enter an integer.\")\n",
        "except NegativeNumberError as e:\n",
        "      print(e)\n"
      ]
    },
    {
      "cell_type": "code",
      "execution_count": null,
      "metadata": {
        "colab": {
          "base_uri": "https://localhost:8080/"
        },
        "id": "oy4Sieh8uer5",
        "outputId": "8c96e794-23bc-4b15-96cf-d12f656e68fc"
      },
      "outputs": [
        {
          "name": "stdout",
          "output_type": "stream",
          "text": [
            "Enter file path : D:\\BCA\\ALL Program\n",
            "Error occured\n"
          ]
        }
      ],
      "source": [
        "#    8. Write a function that raises a custom exception if a provided argument is not a valid file path.\n",
        "import os\n",
        "class FilePathError(Exception):\n",
        "  pass\n",
        "def error(filepath):\n",
        "  if not os.path.exists(filepath):\n",
        "    raise FilePathError(\"Invalid File path \")\n",
        "  else:\n",
        "    print(\"Correct file path\")\n",
        "\n",
        "try:\n",
        "  path=input(\"Enter file path : \")\n",
        "  error(path)\n",
        "except:\n",
        "  print(\"Error occured\")\n"
      ]
    },
    {
      "cell_type": "code",
      "execution_count": null,
      "metadata": {
        "colab": {
          "base_uri": "https://localhost:8080/"
        },
        "id": "Tt971N_CueuQ",
        "outputId": "ac78de31-29f8-45b2-8ed9-598875329661"
      },
      "outputs": [
        {
          "name": "stdout",
          "output_type": "stream",
          "text": [
            "Enter total balance 10000\n",
            "Enter Widthwral amount11000\n",
            "Error: widthwral amount is greater than available amount\n"
          ]
        }
      ],
      "source": [
        "#    9. Write a function that raises an InsufficientFundsError if a withdrawal amount exceeds the available balance.\n",
        "class InsufficientFundsError(Exception):\n",
        "    pass\n",
        "\n",
        "class BankAccount:\n",
        "    def withdraw(self, balance, amount):\n",
        "        if amount > balance:\n",
        "            raise InsufficientFundsError(\"widthwral amount is greater than available amount\")\n",
        "        else:\n",
        "            remaining= balance - amount\n",
        "            return remaining\n",
        "\n",
        "# Example usage:\n",
        "try:\n",
        "    account = BankAccount()\n",
        "    balance =float(input(\"Enter total balance \"))\n",
        "    wamt= float(input(\"Enter Widthwral amount\"))\n",
        "    remaining= account.withdraw(balance, wamt)\n",
        "    print(f\"Remaining balance: {remaining}\")\n",
        "except InsufficientFundsError as e:\n",
        "    print(f\"Error: {e}\")\n",
        "\n"
      ]
    },
    {
      "cell_type": "code",
      "execution_count": 6,
      "metadata": {
        "colab": {
          "base_uri": "https://localhost:8080/"
        },
        "id": "ynokugb-uewo",
        "outputId": "4554cfb8-eeaa-4311-fc74-7eaf23bd4c91"
      },
      "outputs": [
        {
          "name": "stdout",
          "output_type": "stream",
          "text": [
            "Enter the password : 123agfcg\n",
            "Incorrect Passworf 3 attempt left\n",
            "Enter the password : fdtgrdtrd\n",
            "Incorrect Passworf 2 attempt left\n",
            "Enter the password : gcgf\n",
            "Incorrect Passworf 1 attempt left\n",
            "Enter the password : tdreds\n",
            "Your account is locked due to many try \n"
          ]
        }
      ],
      "source": [
        "#    10. Implement a program that raises a custom exception if a user enters an incorrect password multiple times.\n",
        "class IncorrectPasswordError(Exception):\n",
        "  pass\n",
        "def authenticate(password):\n",
        "\n",
        "    pwd = \"parbhat123@\"\n",
        "    if password !=pwd:\n",
        "        return False\n",
        "    return True\n",
        "\n",
        "\n",
        "def login():\n",
        "    attempts = 0\n",
        "\n",
        "    while attempts < 4:\n",
        "        password = input(\"Enter your password: \")\n",
        "        if authenticate(password):\n",
        "            print(\"Login successful!\")\n",
        "            break\n",
        "        else:\n",
        "            attempts +=1\n",
        "            attempt_left= 4 - attempts\n",
        "            if attempt_left> 0:\n",
        "                print(f\"Incorrect password. {attempt_left} attempts remaining.\")\n",
        "            else:\n",
        "                raise IncorrectPasswordError(\"Account locked.\")\n",
        "try:\n",
        "    login()\n",
        "except IncorrectPasswordError as e:\n",
        "    print(e)\n"
      ]
    },
    {
      "cell_type": "code",
      "execution_count": 15,
      "metadata": {
        "colab": {
          "base_uri": "https://localhost:8080/"
        },
        "id": "J1Yx_ybHuezB",
        "outputId": "a9d9bbeb-a3e3-4d4e-8dc8-185430a83dba"
      },
      "outputs": [
        {
          "name": "stdout",
          "output_type": "stream",
          "text": [
            "An error occurred: [Errno 2] No such file or directory: 'non_existent_file.txt'\n",
            "An error occurred: [Errno 2] No such file or directory: 'Users\\\\PARBHAT KUMAR\\\\Desktop\\\\pk\\\\chhotu'\n"
          ]
        }
      ],
      "source": [
        "#    11. Create a Python library with custom exceptions for error handling.\n",
        "class CustomError(Exception):\n",
        "  pass\n",
        "\n",
        "class ValidationError(CustomError):\n",
        "    message = \"Validation Error\"\n",
        "\n",
        "class FileNotFoundError(CustomError):\n",
        "    message = \"File not found\"\n",
        "\n",
        "class PermissionError(CustomError):\n",
        "    message = \"Permission denied\"\n",
        "\n",
        "def read_file(path):\n",
        "    try:\n",
        "        with open(path, 'r') as file:\n",
        "            content = file.read()\n",
        "    except FileNotFoundError:\n",
        "        raise FileNotFoundError(\"The file does not exist.\")\n",
        "    except PermissionError:\n",
        "        raise PermissionError(\"Permission no given.\")\n",
        "    except Exception as e:\n",
        "        raise CustomError(f\"An error occurred: {str(e)}\")\n",
        "\n",
        "try:\n",
        "    read_file(\"non_existent_file.txt\")\n",
        "except CustomError as e:\n",
        "    print(e)\n",
        "\n",
        "try:\n",
        "    read_file(\"Users\\PARBHAT KUMAR\\Desktop\\pk\\chhotu\")\n",
        "except CustomError as e:\n",
        "    print(e)\n"
      ]
    },
    {
      "cell_type": "code",
      "execution_count": 19,
      "metadata": {
        "colab": {
          "base_uri": "https://localhost:8080/"
        },
        "id": "sMk04FIWue1Y",
        "outputId": "206678ab-6d2d-4f74-d0fd-f828e154d3a5"
      },
      "outputs": [
        {
          "name": "stdout",
          "output_type": "stream",
          "text": [
            "Error: Division by zero occurred\n",
            "Cleaning up resources\n"
          ]
        }
      ],
      "source": [
        "#    12. Write a program that utilizes the else clause in a try-except block\n",
        "#        to perform cleanup tasks even if no exception occurs.\n",
        "def perform_task():\n",
        "    try:\n",
        "        result = 10 / 0\n",
        "    except ZeroDivisionError:\n",
        "        print(\"Error: Division by zero occurred\")\n",
        "    else:\n",
        "       \n",
        "        print(\"Task completed successfully\")\n",
        "    finally:\n",
        "    \n",
        "        print(\"Cleaning up resources\")\n",
        "\n",
        "\n",
        "perform_task()\n"
      ]
    },
    {
      "cell_type": "code",
      "execution_count": 21,
      "metadata": {
        "colab": {
          "base_uri": "https://localhost:8080/"
        },
        "id": "DDXz2LQGue3w",
        "outputId": "a194f5f9-5029-40b0-bbfa-eef40d6e1687"
      },
      "outputs": [
        {
          "name": "stdout",
          "output_type": "stream",
          "text": [
            "Error: cant divide by zero\n",
            "Result: None\n"
          ]
        }
      ],
      "source": [
        "#    13. Implement a program that uses nested try-except blocks to handle\n",
        "#        specific exceptions within multiple layers of function calls.\n",
        "def divide(x, y):\n",
        "    try:\n",
        "        result = x / y\n",
        "    except ZeroDivisionError:\n",
        "        print(\"Error: cant divide by zero\")\n",
        "    else:\n",
        "        return result\n",
        "\n",
        "def othertry(data):\n",
        "    try:\n",
        "        result = divide(10, data)\n",
        "    except TypeError:\n",
        "        print(\"Error: Invalid data type\")\n",
        "    except Exception as e:\n",
        "        print(f\"Error: {e}\")\n",
        "    else:\n",
        "        print(\"Result:\", result)\n",
        "\n",
        "def main():\n",
        "    try:\n",
        "        othertry(0)\n",
        "    except ValueError:\n",
        "        print(\"Error: Invalid value\")\n",
        "\n",
        "main()\n"
      ]
    },
    {
      "cell_type": "code",
      "execution_count": 23,
      "metadata": {
        "colab": {
          "base_uri": "https://localhost:8080/"
        },
        "id": "NMpofvoLue6K",
        "outputId": "5091325b-0e92-48c2-d7ce-17619b275fdb"
      },
      "outputs": [
        {
          "name": "stdout",
          "output_type": "stream",
          "text": [
            "Enter any file namee : parbhat.txt\n",
            "input error\n"
          ]
        }
      ],
      "source": [
        "#    14. Design a program that uses the finally clause to ensure resources are\n",
        "#        released regardless of exceptions or successful execution.\n",
        "def filedata(fname):\n",
        "  try:\n",
        "    file=open(fname,'r')\n",
        "    for line in file:\n",
        "      print(line.strip())\n",
        "  except FileNotFoundError:\n",
        "    print(\"File not found\")\n",
        "  except IOError:\n",
        "    print(\"input error\")\n",
        "  else:\n",
        "    print(\"File read successfully\")\n",
        "  finally:\n",
        "    if 'file' in locals():\n",
        "      file.close()\n",
        "      print(\"File close succesfully\")\n",
        "\n",
        "file=input(\"Enter any file namee : \")\n",
        "filedata(file)"
      ]
    },
    {
      "cell_type": "code",
      "execution_count": 29,
      "metadata": {
        "colab": {
          "base_uri": "https://localhost:8080/"
        },
        "id": "zoNsXptBue84",
        "outputId": "11e1455b-62e4-4586-eda2-8e92a17a35f7"
      },
      "outputs": [
        {
          "name": "stdout",
          "output_type": "stream",
          "text": [
            "Operation successful\n"
          ]
        }
      ],
      "source": [
        "#    15. Write a program that uses exceptions to implement a retry mechanism\n",
        "#        for specific operations in case of temporary failures.\n",
        "import time\n",
        "class TemporaryFailure(Exception):\n",
        "  pass\n",
        "def operation():\n",
        "  if time.time()%2==0:\n",
        "    raise TemporaryFailure(\"Temporary Falure\")\n",
        "  else:\n",
        "    print(\"Operation successful\")\n",
        "\n",
        "def retry():\n",
        "  max=4\n",
        "  retry=0\n",
        "  while retry<max:\n",
        "    try:\n",
        "      operation()\n",
        "      break\n",
        "    except TemporaryFailure as t:\n",
        "      print(f\"temperory falure \")\n",
        "      print(f\"Retry in {2} seconds\")\n",
        "      time.sleep(2)\n",
        "      retry+=1\n",
        "    else:\n",
        "      print(\"Retry limit exceed\")\n",
        "retry()"
      ]
    },
    {
      "cell_type": "code",
      "execution_count": 40,
      "metadata": {
        "colab": {
          "base_uri": "https://localhost:8080/"
        },
        "id": "3FvlhrBjue_B",
        "outputId": "73bc2329-313c-4877-e8f0-e3d92756254e"
      },
      "outputs": [
        {
          "name": "stdout",
          "output_type": "stream",
          "text": [
            "enter an integer : w\n",
            "enter valid integer\n",
            "enter an integer : 3\n"
          ]
        },
        {
          "data": {
            "text/plain": [
              "3"
            ]
          },
          "execution_count": 40,
          "metadata": {},
          "output_type": "execute_result"
        }
      ],
      "source": [
        "#    16. Write a Python program that prompts the user to enter a valid integer.\n",
        "#        Use a loop and exception handling to ensure that the user enters a valid\n",
        "#        integer, and print the entered integer.\n",
        "class InvalidException(Exception):\n",
        "  pass\n",
        "def integer(n):\n",
        "  while True:\n",
        "    try:\n",
        "      inpu=input(n)\n",
        "      intvalue=int(inpu)\n",
        "      return intvalue\n",
        "    except ValueError:\n",
        "     print(\"enter valid integer\")\n",
        "    else:\n",
        "      print(\"error occured\")\n",
        "\n",
        "integer(\"enter an integer : \")\n"
      ]
    },
    {
      "cell_type": "code",
      "execution_count": 9,
      "metadata": {
        "colab": {
          "base_uri": "https://localhost:8080/"
        },
        "id": "PdDYpElmufCR",
        "outputId": "e9e1a5ed-c78f-46e5-d622-e227afb3b48d"
      },
      "outputs": [
        {
          "name": "stdout",
          "output_type": "stream",
          "text": [
            "Enter the file path: C:\\Users\\PARBHAT KUMAR\\Desktop\n",
            "Error: File not found.\n"
          ]
        }
      ],
      "source": [
        "#    17. Create a program that opens a file and reads its content. Handle the\n",
        "#        PermissionError exception and print a message if the program does not\n",
        "#        have permission to read the file.\n",
        "def read(path):\n",
        "    try:\n",
        "        with open(path, 'r') as file:\n",
        "            content = file.read()\n",
        "            print(content)\n",
        "    except PermissionError:\n",
        "        print(\"you have not permission to read this file.\")\n",
        "    except FileNotFoundError:\n",
        "        print(\"Error: File not found.\")\n",
        "\n",
        "path = input(\"Enter the file path: \")\n",
        "read(path)\n",
        "\n",
        "\n"
      ]
    },
    {
      "cell_type": "code",
      "execution_count": 14,
      "metadata": {
        "colab": {
          "base_uri": "https://localhost:8080/"
        },
        "id": "mixy-86HufHg",
        "outputId": "be3121f9-68e6-4ea4-d297-762d1915c041"
      },
      "outputs": [
        {
          "name": "stdout",
          "output_type": "stream",
          "text": [
            "Enter a number or enter ok to get result : 2\n",
            "Enter a number or enter ok to get result : 3\n",
            "Enter a number or enter ok to get result : 4\n",
            "Enter a number or enter ok to get result : 5\n",
            "Enter a number or enter ok to get result : parbhat\n",
            "Error: Please enter a valid number.\n",
            "Enter a number or enter ok to get result : 8\n",
            "Enter a number or enter ok to get result : ok\n",
            "Average of the numbers: 4.4\n"
          ]
        }
      ],
      "source": [
        "#    18. Create a program that accepts user input for a list of numbers, and then\n",
        "#        calculates and prints the average of those numbers. Handle the ValueError\n",
        "#        exception when converting user input to numbers.\n",
        "def average(num):\n",
        "    if not num:\n",
        "        return 0\n",
        "    return sum(num) / len(num)\n",
        "\n",
        "def main():\n",
        "    num = []\n",
        "    while True:\n",
        "        try:\n",
        "            inpu = input(\"Enter a number or enter ok to get result : \")\n",
        "            if inpu.lower() == 'ok':\n",
        "                break\n",
        "            n= float(inpu)\n",
        "            num.append(n)\n",
        "        except ValueError:\n",
        "            print(\"Error: Please enter a valid number.\")\n",
        "    avg =average(num)\n",
        "    print(\"Average of the numbers:\", avg)\n",
        "\n",
        "main()\n"
      ]
    },
    {
      "cell_type": "code",
      "execution_count": 18,
      "metadata": {
        "colab": {
          "base_uri": "https://localhost:8080/"
        },
        "id": "FBp26I4cufKZ",
        "outputId": "38c153c4-eacc-441a-e87c-8f9f42e79aef"
      },
      "outputs": [
        {
          "name": "stdout",
          "output_type": "stream",
          "text": [
            "Enter value of a :3\n",
            "Enter value of b :4\n",
            "+,-,*,/\n",
            "Enter your choiceh\n",
            "Value error \n"
          ]
        }
      ],
      "source": [
        "#    19. Create a program that asks the user to input two numbers and performs a mathematical\n",
        "#        operation (e.g., addition, subtraction, multiplication, division) based on user\n",
        "#        input. Handle the potential exceptions that may arise during user input or calculation.\n",
        "def operation(a,b,op):\n",
        "  try:\n",
        "    if op=='+':\n",
        "      result=a+b\n",
        "    elif op=='-':\n",
        "      result=a-b\n",
        "    elif op=='*':\n",
        "      result=a*b\n",
        "    elif op=='/':\n",
        "      result=a/b\n",
        "    else:\n",
        "      raise ValueError(\"Invalid operation \")\n",
        "    return result\n",
        "  except ZeroDivisionError:\n",
        "    print(\"Cant Divide by zero\")\n",
        "  except ValueError as e:\n",
        "    print(f\"Value error \")\n",
        "\n",
        "a=int(input(\"Enter value of a :\"))\n",
        "b=int(input(\"Enter value of b :\"))\n",
        "print(\"+,-,*,/\")\n",
        "ch=input(\"Enter your choice\")\n",
        "operation(a,b,ch)\n",
        "\n"
      ]
    },
    {
      "cell_type": "code",
      "execution_count": 22,
      "metadata": {
        "colab": {
          "base_uri": "https://localhost:8080/"
        },
        "id": "1wsqPRRvufNR",
        "outputId": "17a65cc5-f84c-4665-e5bf-42313d71a86a"
      },
      "outputs": [
        {
          "name": "stdout",
          "output_type": "stream",
          "text": [
            "Enter user name :parbhat\n",
            "Enter Password : 23\n",
            "User does not exists\n"
          ]
        }
      ],
      "source": [
        "#    20. Create a program that simulates a login system. Ask the user to enter a username\n",
        "#        and password.Handle the KeyError when checking if the entered username exists in\n",
        "#        a dictionary and handle the ValueError when comparing the entered password.\n",
        "\n",
        "def database():\n",
        "  data={\"user1\":\"password1\",\"user2\":\"password2\",\"user3\":\"password3\"}\n",
        "  try:\n",
        "    user=input(\"Enter user name :\")\n",
        "    pwd=input(\"Enter Password : \")\n",
        "\n",
        "    orgpwd=data[user]\n",
        "\n",
        "    if orgpwd==pwd:\n",
        "      print(\"Login Successfully\")\n",
        "    else:\n",
        "      print(\"Incorrect paassword or user not register\")\n",
        "  except KeyError:\n",
        "    print(\"User does not exists\")\n",
        "  except ValueError:\n",
        "    print(\"Invalid password format\")\n",
        "\n",
        "database()"
      ]
    },
    {
      "cell_type": "code",
      "execution_count": 21,
      "metadata": {
        "colab": {
          "base_uri": "https://localhost:8080/"
        },
        "id": "53BBLcbfBwlv",
        "outputId": "48c839bc-ee36-4438-9792-9134289b6249"
      },
      "outputs": [
        {
          "name": "stdout",
          "output_type": "stream",
          "text": [
            "1.Push\n",
            "2.Pop\n",
            "3.Peek\n",
            "4.Display\n",
            "Enter any choice : 2\n",
            "Stack is underflow\n"
          ]
        }
      ],
      "source": [
        "#stack using python\n",
        "top=-1\n",
        "max=10\n",
        "def isFull():\n",
        "  return max-1\n",
        "def isEmpty():\n",
        "  return top==-1\n",
        "def push(ele):\n",
        "  if(isFull()):\n",
        "    print(\"Stack is overflow\")\n",
        "    return\n",
        "  else:\n",
        "    top+=1\n",
        "    stk[top]=ele\n",
        "    print(f\"Element {ele} successfully pushed\")\n",
        "def pop():\n",
        "  if(isEmpty()):\n",
        "    print(\"Stack is underflow\")\n",
        "    return\n",
        "  else:\n",
        "    print(\"Element poped successfully\")\n",
        "    top-=1\n",
        "def peek():\n",
        "  if(isEmpty()):\n",
        "    print(\"stack is underflow\")\n",
        "    return\n",
        "  else:\n",
        "    print(f\"Peeked element {stk[top]}\" )\n",
        "def Display():\n",
        "  for i in stk:\n",
        "    print(i)\n",
        "print(\"1.Push\")\n",
        "print(\"2.Pop\")\n",
        "print(\"3.Peek\")\n",
        "print(\"4.Display\")\n",
        "ch=int(input(\"Enter any choice : \"))\n",
        "if(ch==1):\n",
        "  n=int(input(\"enter pushed element\"))\n",
        "  push(n)\n",
        "elif(ch==2):\n",
        "  pop()\n",
        "elif(ch==3):\n",
        "  peek()\n",
        "elif(ch==4):\n",
        "  Display()\n",
        "else:\n",
        "    prrint(\"Invalid choice\")"
      ]
    },
    {
      "cell_type": "code",
      "execution_count": null,
      "metadata": {
        "id": "QtsTEfUewqCn"
      },
      "outputs": [],
      "source": []
    }
  ],
  "metadata": {
    "colab": {
      "provenance": []
    },
    "kernelspec": {
      "display_name": "Python 3",
      "name": "python3"
    },
    "language_info": {
      "name": "python"
    }
  },
  "nbformat": 4,
  "nbformat_minor": 0
}
