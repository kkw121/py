{
  "nbformat": 4,
  "nbformat_minor": 0,
  "metadata": {
    "colab": {
      "provenance": []
    },
    "kernelspec": {
      "name": "python3",
      "display_name": "Python 3"
    },
    "language_info": {
      "name": "python"
    }
  },
  "cells": [
    {
      "cell_type": "code",
      "source": [
        "pip install ucimlrepo"
      ],
      "metadata": {
        "colab": {
          "base_uri": "https://localhost:8080/"
        },
        "id": "A8wyQddjUIX2",
        "outputId": "0f6b404a-5512-48cb-cdbc-ea5dba8943db"
      },
      "execution_count": null,
      "outputs": [
        {
          "output_type": "stream",
          "name": "stdout",
          "text": [
            "Collecting ucimlrepo\n",
            "  Downloading ucimlrepo-0.0.3-py3-none-any.whl (7.0 kB)\n",
            "Installing collected packages: ucimlrepo\n",
            "Successfully installed ucimlrepo-0.0.3\n"
          ]
        }
      ]
    },
    {
      "cell_type": "code",
      "execution_count": null,
      "metadata": {
        "id": "jTtm2-XnSPyU",
        "colab": {
          "base_uri": "https://localhost:8080/"
        },
        "outputId": "7b0c7a61-7300-4b6f-ee7f-973485c35165"
      },
      "outputs": [
        {
          "output_type": "stream",
          "name": "stdout",
          "text": [
            "     sepal width  petal length  petal width\n",
            "0            3.5           1.4          0.2\n",
            "1            3.0           1.4          0.2\n",
            "2            3.2           1.3          0.2\n",
            "3            3.1           1.5          0.2\n",
            "4            3.6           1.4          0.2\n",
            "..           ...           ...          ...\n",
            "145          3.0           5.2          2.3\n",
            "146          2.5           5.0          1.9\n",
            "147          3.0           5.2          2.0\n",
            "148          3.4           5.4          2.3\n",
            "149          3.0           5.1          1.8\n",
            "\n",
            "[150 rows x 3 columns]\n"
          ]
        }
      ],
      "source": [
        "# 1) Load data into a 2-D array called iris.\n",
        "\n",
        "from ucimlrepo import fetch_ucirepo\n",
        "import numpy as np\n",
        "import pandas as pd\n",
        "# fetch dataset\n",
        "iris = fetch_ucirepo(id=53)\n",
        "\n",
        "# data (as pandas dataframes)\n",
        "X = iris.data.features\n",
        "X_bkp = iris.data.features\n",
        "y = iris.data.targets\n",
        "y_bkp = iris.data.targets\n",
        "\n",
        "# 2) Drop column at index 4\n",
        "\n",
        "X = X.drop([\"sepal length\"], axis = 1)\n",
        "print(X)\n",
        "\n",
        "X_np = np.array(X)\n",
        "y_np = np.array(y)"
      ]
    },
    {
      "cell_type": "code",
      "source": [
        "# 3) Display shape, dimensions, and size of iris\n",
        "\n",
        "print(\"Shape:\", X_np.shape)\n",
        "print(\"Dimensions:\", X_np.ndim)\n",
        "print(\"Size:\", X_np.size)"
      ],
      "metadata": {
        "colab": {
          "base_uri": "https://localhost:8080/"
        },
        "id": "edK9gnnNB488",
        "outputId": "9a4343f6-0d94-408b-9dd5-3310ffd63df9"
      },
      "execution_count": null,
      "outputs": [
        {
          "output_type": "stream",
          "name": "stdout",
          "text": [
            "Shape: (150, 3)\n",
            "Dimensions: 2\n",
            "Size: 450\n"
          ]
        }
      ]
    },
    {
      "cell_type": "code",
      "source": [
        "# 4) Split iris into three 2-D arrays for different species\n",
        "\n",
        "# X.describe()\n",
        "# y.describe()\n",
        "# X.drop(index='3')\n",
        "# iris1 = X.iloc[:50]\n",
        "# iris2 = X.iloc[50:100]\n",
        "# iris3 = X.iloc[100:150]\n",
        "splitArr = np.array_split(X_np, 3)\n",
        "\n",
        "iris1, iris2, iris3 = splitArr"
      ],
      "metadata": {
        "id": "dS1QGgghW5Nl"
      },
      "execution_count": null,
      "outputs": []
    },
    {
      "cell_type": "code",
      "source": [
        "# 5) Print iris1, iris2, iris3\n",
        "\n",
        "print(\"Iris1:\\n\", iris1)\n",
        "print(\"Iris2:\\n\", iris2)\n",
        "print(\"Iris3:\\n\", iris3)"
      ],
      "metadata": {
        "colab": {
          "base_uri": "https://localhost:8080/"
        },
        "id": "vmjhomEyCD_W",
        "outputId": "355a8112-e6ec-4726-b131-6bcf622046f6"
      },
      "execution_count": null,
      "outputs": [
        {
          "output_type": "stream",
          "name": "stdout",
          "text": [
            "Iris1:\n",
            " [[3.5 1.4 0.2]\n",
            " [3.  1.4 0.2]\n",
            " [3.2 1.3 0.2]\n",
            " [3.1 1.5 0.2]\n",
            " [3.6 1.4 0.2]\n",
            " [3.9 1.7 0.4]\n",
            " [3.4 1.4 0.3]\n",
            " [3.4 1.5 0.2]\n",
            " [2.9 1.4 0.2]\n",
            " [3.1 1.5 0.1]\n",
            " [3.7 1.5 0.2]\n",
            " [3.4 1.6 0.2]\n",
            " [3.  1.4 0.1]\n",
            " [3.  1.1 0.1]\n",
            " [4.  1.2 0.2]\n",
            " [4.4 1.5 0.4]\n",
            " [3.9 1.3 0.4]\n",
            " [3.5 1.4 0.3]\n",
            " [3.8 1.7 0.3]\n",
            " [3.8 1.5 0.3]\n",
            " [3.4 1.7 0.2]\n",
            " [3.7 1.5 0.4]\n",
            " [3.6 1.  0.2]\n",
            " [3.3 1.7 0.5]\n",
            " [3.4 1.9 0.2]\n",
            " [3.  1.6 0.2]\n",
            " [3.4 1.6 0.4]\n",
            " [3.5 1.5 0.2]\n",
            " [3.4 1.4 0.2]\n",
            " [3.2 1.6 0.2]\n",
            " [3.1 1.6 0.2]\n",
            " [3.4 1.5 0.4]\n",
            " [4.1 1.5 0.1]\n",
            " [4.2 1.4 0.2]\n",
            " [3.1 1.5 0.1]\n",
            " [3.2 1.2 0.2]\n",
            " [3.5 1.3 0.2]\n",
            " [3.1 1.5 0.1]\n",
            " [3.  1.3 0.2]\n",
            " [3.4 1.5 0.2]\n",
            " [3.5 1.3 0.3]\n",
            " [2.3 1.3 0.3]\n",
            " [3.2 1.3 0.2]\n",
            " [3.5 1.6 0.6]\n",
            " [3.8 1.9 0.4]\n",
            " [3.  1.4 0.3]\n",
            " [3.8 1.6 0.2]\n",
            " [3.2 1.4 0.2]\n",
            " [3.7 1.5 0.2]\n",
            " [3.3 1.4 0.2]]\n",
            "Iris2:\n",
            " [[3.2 4.7 1.4]\n",
            " [3.2 4.5 1.5]\n",
            " [3.1 4.9 1.5]\n",
            " [2.3 4.  1.3]\n",
            " [2.8 4.6 1.5]\n",
            " [2.8 4.5 1.3]\n",
            " [3.3 4.7 1.6]\n",
            " [2.4 3.3 1. ]\n",
            " [2.9 4.6 1.3]\n",
            " [2.7 3.9 1.4]\n",
            " [2.  3.5 1. ]\n",
            " [3.  4.2 1.5]\n",
            " [2.2 4.  1. ]\n",
            " [2.9 4.7 1.4]\n",
            " [2.9 3.6 1.3]\n",
            " [3.1 4.4 1.4]\n",
            " [3.  4.5 1.5]\n",
            " [2.7 4.1 1. ]\n",
            " [2.2 4.5 1.5]\n",
            " [2.5 3.9 1.1]\n",
            " [3.2 4.8 1.8]\n",
            " [2.8 4.  1.3]\n",
            " [2.5 4.9 1.5]\n",
            " [2.8 4.7 1.2]\n",
            " [2.9 4.3 1.3]\n",
            " [3.  4.4 1.4]\n",
            " [2.8 4.8 1.4]\n",
            " [3.  5.  1.7]\n",
            " [2.9 4.5 1.5]\n",
            " [2.6 3.5 1. ]\n",
            " [2.4 3.8 1.1]\n",
            " [2.4 3.7 1. ]\n",
            " [2.7 3.9 1.2]\n",
            " [2.7 5.1 1.6]\n",
            " [3.  4.5 1.5]\n",
            " [3.4 4.5 1.6]\n",
            " [3.1 4.7 1.5]\n",
            " [2.3 4.4 1.3]\n",
            " [3.  4.1 1.3]\n",
            " [2.5 4.  1.3]\n",
            " [2.6 4.4 1.2]\n",
            " [3.  4.6 1.4]\n",
            " [2.6 4.  1.2]\n",
            " [2.3 3.3 1. ]\n",
            " [2.7 4.2 1.3]\n",
            " [3.  4.2 1.2]\n",
            " [2.9 4.2 1.3]\n",
            " [2.9 4.3 1.3]\n",
            " [2.5 3.  1.1]\n",
            " [2.8 4.1 1.3]]\n",
            "Iris3:\n",
            " [[3.3 6.  2.5]\n",
            " [2.7 5.1 1.9]\n",
            " [3.  5.9 2.1]\n",
            " [2.9 5.6 1.8]\n",
            " [3.  5.8 2.2]\n",
            " [3.  6.6 2.1]\n",
            " [2.5 4.5 1.7]\n",
            " [2.9 6.3 1.8]\n",
            " [2.5 5.8 1.8]\n",
            " [3.6 6.1 2.5]\n",
            " [3.2 5.1 2. ]\n",
            " [2.7 5.3 1.9]\n",
            " [3.  5.5 2.1]\n",
            " [2.5 5.  2. ]\n",
            " [2.8 5.1 2.4]\n",
            " [3.2 5.3 2.3]\n",
            " [3.  5.5 1.8]\n",
            " [3.8 6.7 2.2]\n",
            " [2.6 6.9 2.3]\n",
            " [2.2 5.  1.5]\n",
            " [3.2 5.7 2.3]\n",
            " [2.8 4.9 2. ]\n",
            " [2.8 6.7 2. ]\n",
            " [2.7 4.9 1.8]\n",
            " [3.3 5.7 2.1]\n",
            " [3.2 6.  1.8]\n",
            " [2.8 4.8 1.8]\n",
            " [3.  4.9 1.8]\n",
            " [2.8 5.6 2.1]\n",
            " [3.  5.8 1.6]\n",
            " [2.8 6.1 1.9]\n",
            " [3.8 6.4 2. ]\n",
            " [2.8 5.6 2.2]\n",
            " [2.8 5.1 1.5]\n",
            " [2.6 5.6 1.4]\n",
            " [3.  6.1 2.3]\n",
            " [3.4 5.6 2.4]\n",
            " [3.1 5.5 1.8]\n",
            " [3.  4.8 1.8]\n",
            " [3.1 5.4 2.1]\n",
            " [3.1 5.6 2.4]\n",
            " [3.1 5.1 2.3]\n",
            " [2.7 5.1 1.9]\n",
            " [3.2 5.9 2.3]\n",
            " [3.3 5.7 2.5]\n",
            " [3.  5.2 2.3]\n",
            " [2.5 5.  1.9]\n",
            " [3.  5.2 2. ]\n",
            " [3.4 5.4 2.3]\n",
            " [3.  5.1 1.8]]\n"
          ]
        }
      ]
    },
    {
      "cell_type": "code",
      "source": [
        "# 6) Create a 1-D array header\n",
        "\n",
        "headerArr = [\"sepal length\", \"sepal width\", \"petal length\", \"petal width\"]\n",
        "\n",
        "header = np.array(headerArr)\n",
        "\n",
        "# 7) Display the array header\n",
        "\n",
        "print(header)"
      ],
      "metadata": {
        "colab": {
          "base_uri": "https://localhost:8080/"
        },
        "id": "daYuvepMY5CU",
        "outputId": "95a42202-92e2-4379-ef1e-a34dab8852e4"
      },
      "execution_count": null,
      "outputs": [
        {
          "output_type": "stream",
          "name": "stdout",
          "text": [
            "['sepal length' 'sepal width' 'petal length' 'petal width']\n"
          ]
        }
      ]
    },
    {
      "cell_type": "code",
      "source": [
        "# 8) Find max, min, mean, and standard deviation for columns of iris\n",
        "\n",
        "iris_min = np.round(np.min(X_np, axis=0), 2)\n",
        "#print(iris_min)\n",
        "iris_max = np.round(np.max(X_np, axis=0), 2)\n",
        "#print(iris_max)\n",
        "iris_avg = np.round(np.mean(X_np, axis=0), 2)\n",
        "print(iris_avg)\n",
        "iris_std = np.round(np.std(X_np, axis=0), 2)\n",
        "#print(iris_std)\n",
        "iris_var = np.round(np.var(X_np, axis=0), 2)\n",
        "#print(iris_var)"
      ],
      "metadata": {
        "colab": {
          "base_uri": "https://localhost:8080/"
        },
        "id": "ZeEnuAlddvbr",
        "outputId": "e653995e-d07a-4063-ce96-1a2d2ab91d1a"
      },
      "execution_count": null,
      "outputs": [
        {
          "output_type": "stream",
          "name": "stdout",
          "text": [
            "[3.05 3.76 1.2 ]\n"
          ]
        }
      ]
    },
    {
      "cell_type": "code",
      "source": [
        "# 9) Find max, min, mean, and std for columns of iris1, iris2, iris3\n",
        "\n",
        "iris1_min = iris1.min(axis = 0)\n",
        "#print(iris1_min)\n",
        "iris1_max = iris1.max(axis = 0)\n",
        "#print(iris1_max)\n",
        "iris1_avg = iris1.mean(axis = 0)\n",
        "print(iris1_avg)\n",
        "iris1_std = iris1.std(axis = 0)\n",
        "#print(iris1_std)\n",
        "iris1_var = iris1.var(axis = 0)\n",
        "#print(iris1_var)\n",
        "\n",
        "iris2_min = iris2.min(axis = 0)\n",
        "#print(iris2_min)\n",
        "iris2_max = iris2.max(axis = 0)\n",
        "#print(iris2_max)\n",
        "iris2_avg = iris2.mean(axis = 0)\n",
        "print(iris2_avg)\n",
        "iris2_std = iris2.std(axis = 0)\n",
        "#print(iris2_std)\n",
        "iris2_var = iris2.var(axis = 0)\n",
        "#print(iris2_var)\n",
        "\n",
        "iris3_min = iris3.min(axis = 0)\n",
        "#print(iris3_min)\n",
        "iris3_max = iris3.max(axis = 0)\n",
        "#print(iris3_max)\n",
        "iris3_avg = iris3.mean(axis = 0)\n",
        "print(iris3_avg)\n",
        "iris3_std = iris3.std(axis = 0)\n",
        "#print(iris3_std)\n",
        "iris3_var = iris3.var(axis = 0)\n",
        "#print(iris3_var)\n"
      ],
      "metadata": {
        "colab": {
          "base_uri": "https://localhost:8080/"
        },
        "id": "xzEaZI3BaQbj",
        "outputId": "cfc706c8-184e-457a-9277-1a453553363b"
      },
      "execution_count": null,
      "outputs": [
        {
          "output_type": "stream",
          "name": "stdout",
          "text": [
            "[3.418 1.464 0.244]\n",
            "[2.77  4.26  1.326]\n",
            "[2.974 5.552 2.026]\n"
          ]
        }
      ]
    },
    {
      "cell_type": "code",
      "source": [
        "# 11) Compare Iris setosa's average sepal width to that of Iris virginica\n",
        "\n",
        "setosa_sepal_width_avg = np.mean(iris1[:, 0])\n",
        "virginica_sepal_width_avg = np.mean(iris3[:, 0])\n",
        "\n",
        "print(f\"Average Setosa sepal width: {setosa_sepal_width_avg}\")\n",
        "print(f\"Average Verginica sepal width: {virginica_sepal_width_avg}\")\n",
        "print(f\"Difference: {abs(setosa_sepal_width_avg - virginica_sepal_width_avg):.4f}\")"
      ],
      "metadata": {
        "id": "Q_a-PK9wy4qO",
        "colab": {
          "base_uri": "https://localhost:8080/"
        },
        "outputId": "3fb2432f-0d8e-45f0-fd51-2dacb668da99"
      },
      "execution_count": null,
      "outputs": [
        {
          "output_type": "stream",
          "name": "stdout",
          "text": [
            "Average Setosa sepal width: 3.418\n",
            "Average Verginica sepal width: 2.974\n",
            "Difference: 0.4440\n"
          ]
        }
      ]
    },
    {
      "cell_type": "code",
      "source": [
        "# 12) Compare Iris setosa's average petal length to that of Iris virginica\n",
        "\n",
        "setosa_petal_length_avg = np.mean(iris1[:, 1])\n",
        "virginica_petal_length_avg = np.mean(iris3[:, 1])\n",
        "\n",
        "print(f\"Average Setosa petal length: {setosa_petal_length_avg}\")\n",
        "print(f\"Average Verginica petal length: {virginica_petal_length_avg}\")\n",
        "print(f\"Difference: {abs(setosa_petal_length_avg - virginica_petal_length_avg):.4f}\")"
      ],
      "metadata": {
        "colab": {
          "base_uri": "https://localhost:8080/"
        },
        "id": "E8GpLOxU51ZG",
        "outputId": "a1dec6ae-831b-43cc-a69e-4cd9ec718b13"
      },
      "execution_count": null,
      "outputs": [
        {
          "output_type": "stream",
          "name": "stdout",
          "text": [
            "Average Setosa petal length: 1.464\n",
            "Average Verginica petal length: 5.5520000000000005\n",
            "Difference: 4.0880\n"
          ]
        }
      ]
    },
    {
      "cell_type": "code",
      "source": [
        "# 13) Compare Iris setosa's average petal width to that of Iris virginica\n",
        "\n",
        "setosa_petal_width_avg = np.mean(iris1[:, 2])\n",
        "virginica_petal_width_avg = np.mean(iris3[:, 2])\n",
        "\n",
        "print(f\"Average Setosa petal width: {setosa_petal_width_avg}\")\n",
        "print(f\"Average Verginica petal width: {virginica_petal_width_avg}\")\n",
        "print(f\"Difference: {abs(setosa_petal_width_avg - virginica_petal_width_avg):.4f}\")"
      ],
      "metadata": {
        "colab": {
          "base_uri": "https://localhost:8080/"
        },
        "id": "Lc4ZI9Zu6Vw1",
        "outputId": "f7345dd8-0255-4437-852a-10c5b385aae0"
      },
      "execution_count": null,
      "outputs": [
        {
          "output_type": "stream",
          "name": "stdout",
          "text": [
            "Average Setosa petal width: 0.244\n",
            "Average Verginica petal width: 2.0260000000000002\n",
            "Difference: 1.7820\n"
          ]
        }
      ]
    },
    {
      "cell_type": "code",
      "source": [
        "# iris1 = iris1.reset_index(drop = True)\n",
        "# iris2 = iris2.reset_index(drop = True)\n",
        "# iris3 = iris3.reset_index(drop = True)"
      ],
      "metadata": {
        "id": "B7jo2gu84JVt"
      },
      "execution_count": null,
      "outputs": []
    },
    {
      "cell_type": "code",
      "source": [
        "# 14) Save iris_avg to a CSV file\n",
        "\n",
        "# Specify the file path where you want to save the CSV file\n",
        "file_path = 'IrisMeanValues.csv'\n",
        "\n",
        "# Use savetxt to export the array to a CSV file\n",
        "np.savetxt(file_path, iris_avg, delimiter=',', comments='')\n",
        "\n",
        "iris_avg_df = pd.DataFrame({'sepal width': [3.054], 'petal length': [3.75866667], 'petal width': [1.19866667]})\n",
        "\n",
        "# Specify the file path where you want to save the CSV file\n",
        "file_path = 'IrisMeanValues_pd.csv'\n",
        "\n",
        "# Use to_csv to export the DataFrame to a CSV file\n",
        "iris_avg_df.to_csv(file_path, index=False)\n"
      ],
      "metadata": {
        "id": "0SPOmrlI2Sca"
      },
      "execution_count": null,
      "outputs": []
    },
    {
      "cell_type": "code",
      "source": [
        "# 15) Save iris_max, iris_avg, iris_min to a CSV file\n",
        "\n",
        "iris_stats_combined = np.vstack((iris_max, iris_avg, iris_min))\n",
        "np.savetxt('IrisStat.txt', iris_stats_combined, delimiter=',', header=','.join(header[:-1]), comments='')"
      ],
      "metadata": {
        "id": "CYzSQDuS9ir9"
      },
      "execution_count": null,
      "outputs": []
    }
  ]
}