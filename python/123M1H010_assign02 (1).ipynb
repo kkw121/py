{
  "cells": [
    {
      "cell_type": "markdown",
      "metadata": {},
      "source": [
        "Name:Harshal Sanjay Bhamare\n",
        "PRN:123M1H010"
      ]
    },
    {
      "cell_type": "code",
      "execution_count": 2,
      "metadata": {
        "colab": {
          "base_uri": "https://localhost:8080/"
        },
        "id": "FpxB-0iHI8TK",
        "outputId": "4317f522-a42b-4d08-f851-e373e47a5f98"
      },
      "outputs": [
        {
          "name": "stdout",
          "output_type": "stream",
          "text": [
            "[1, 4, 9, 16, 25]\n"
          ]
        }
      ],
      "source": [
        "#  1. Python Program To Display Powers of 2 Using Anonymous Function\n",
        "list1=[1,2,3,4,5]\n",
        "power_list=[x**2 for x in list1]\n",
        "print(power_list)"
      ]
    },
    {
      "cell_type": "code",
      "execution_count": null,
      "metadata": {
        "colab": {
          "base_uri": "https://localhost:8080/"
        },
        "id": "mhGbriIKJ5LF",
        "outputId": "327aebd9-4198-4c5e-b2bc-1d6e14a46dd6"
      },
      "outputs": [
        {
          "name": "stdout",
          "output_type": "stream",
          "text": [
            "Your list :  [4, 5, 10, 11, 12, 13, 15]\n",
            "Enter any number: 5\n",
            "[5, 10, 15]\n"
          ]
        }
      ],
      "source": [
        "#  2. Python Program to Find Numbers Divisible by Another Number\n",
        "list1=[4,5,10,11,12,13,15]\n",
        "print(\"Your list : \",list1)\n",
        "n=int(input(\"Enter any number: \"))\n",
        "temp=[x for x in list1 if x%n==0]\n",
        "print(temp)"
      ]
    },
    {
      "cell_type": "code",
      "execution_count": null,
      "metadata": {
        "colab": {
          "base_uri": "https://localhost:8080/"
        },
        "id": "fT8vteQHJ5bH",
        "outputId": "683e8b1c-5c9d-4f30-d891-77642802bd6e"
      },
      "outputs": [
        {
          "name": "stdout",
          "output_type": "stream",
          "text": [
            "Enter any decimal number : 10\n",
            "Binary number of 10 :  0b1010\n",
            "Octal number of 10 :  0o12\n",
            "Hexadecimal number of 10 :  0xa\n"
          ]
        }
      ],
      "source": [
        "#  3. Python Program to Convert Decimal to Binary, Octal, and Hexadecimal\n",
        "n=int(input(\"Enter any decimal number : \"))\n",
        "print(f\"Binary number of {n} : \",bin(n))\n",
        "print(f\"Octal number of {n} : \",oct(n))\n",
        "print(f\"Hexadecimal number of {n} : \",hex(n))"
      ]
    },
    {
      "cell_type": "code",
      "execution_count": null,
      "metadata": {
        "colab": {
          "base_uri": "https://localhost:8080/"
        },
        "id": "6dbNNTEtJ5qo",
        "outputId": "30770f4c-dca5-406c-dae1-b4d75eb16d91"
      },
      "outputs": [
        {
          "name": "stdout",
          "output_type": "stream",
          "text": [
            "Enter any character : a\n",
            "ASCII value of character a :  97\n"
          ]
        }
      ],
      "source": [
        "#  4. Python Program to Find ASCII Value of Character\n",
        "ch=input(\"Enter any character : \")\n",
        "ascii=ord(ch)\n",
        "print(f\"ASCII value of character {ch} : \",ascii)"
      ]
    },
    {
      "cell_type": "code",
      "execution_count": null,
      "metadata": {
        "colab": {
          "base_uri": "https://localhost:8080/"
        },
        "id": "3UykufnQJ570",
        "outputId": "82ae1203-34e3-4ff2-9dc4-8163273563f0"
      },
      "outputs": [
        {
          "name": "stdout",
          "output_type": "stream",
          "text": [
            "Enter first Numbar10\n",
            "Enter Second Numbar12\n",
            "HCF of (10, 2) :  2\n"
          ]
        }
      ],
      "source": [
        "#  5. Python program to find the H.C.F of two input numbers\n",
        "a=int(input(\"Enter first Numbar\"))\n",
        "b=int(input(\"Enter Second Numbar\"))\n",
        "while a%b!=0:\n",
        "  rem=a%b\n",
        "  a=b\n",
        "  b=rem\n",
        "print(f\"HCF of {a,b} : \",b)\n"
      ]
    },
    {
      "cell_type": "code",
      "execution_count": null,
      "metadata": {
        "colab": {
          "base_uri": "https://localhost:8080/"
        },
        "id": "nsxpfwj9J5_X",
        "outputId": "71866f05-510f-4cac-e8ae-90997e85d51c"
      },
      "outputs": [
        {
          "name": "stdout",
          "output_type": "stream",
          "text": [
            "Enter first Numbar10\n",
            "Enter Second Numbar12\n",
            "LCM of (10, 2) :  60.0\n"
          ]
        }
      ],
      "source": [
        "#  6. Python Program to find the L.C.M. of two input numbers\n",
        "a=int(input(\"Enter first Numbar\"))\n",
        "b=int(input(\"Enter Second Numbar\"))\n",
        "org1=a\n",
        "org2=b\n",
        "while a%b!=0:\n",
        "  rem=a%b\n",
        "  a=b\n",
        "  b=rem\n",
        "lcm=(org1*org2)/b\n",
        "print(f\"LCM of {a,b} : \",lcm)"
      ]
    },
    {
      "cell_type": "code",
      "execution_count": null,
      "metadata": {
        "colab": {
          "base_uri": "https://localhost:8080/"
        },
        "id": "ocnuGoRbJ6EA",
        "outputId": "b06197ea-b01e-4ee5-f792-fbd87c687bcc"
      },
      "outputs": [
        {
          "name": "stdout",
          "output_type": "stream",
          "text": [
            "Enter any number : 15\n",
            "factors of 15\n",
            "1 3 5 15 "
          ]
        }
      ],
      "source": [
        "#  7. Python Program to Find Factors of Number\n",
        "n=int(input(\"Enter any number : \"))\n",
        "print(f\"factors of {n}\")\n",
        "for i in range(1,n+1,1):\n",
        "  if n%i==0:\n",
        "    print(i,end=\" \")"
      ]
    },
    {
      "cell_type": "code",
      "execution_count": null,
      "metadata": {
        "colab": {
          "base_uri": "https://localhost:8080/"
        },
        "id": "owUrt5eXJ6H3",
        "outputId": "07c6983b-03a2-44a4-8cfc-704e2922752c"
      },
      "outputs": [
        {
          "name": "stdout",
          "output_type": "stream",
          "text": [
            "Enter the first number: 2\n",
            "Enter the second number: 3\n",
            "Select operation:\n",
            "1. Addition\n",
            "2. Subtraction\n",
            "3. Multiplication\n",
            "4. Division\n",
            "Enter choice (1/2/3/4): 1\n",
            "2.0 + 3.0 = 5.0\n"
          ]
        }
      ],
      "source": [
        "#  8. Python Program makes a simple calculator that can add, subtract, multiply and divide using functions\n",
        "\n",
        "\n",
        "# Function to add two numbers\n",
        "def add(x, y):\n",
        "    return x + y\n",
        "\n",
        "# Function to subtract two numbers\n",
        "def subtract(x, y):\n",
        "    return x - y\n",
        "\n",
        "# Function to multiply two numbers\n",
        "def multiply(x, y):\n",
        "    return x * y\n",
        "\n",
        "# Function to divide two numbers\n",
        "def divide(x, y):\n",
        "    if y != 0:\n",
        "        return x / y\n",
        "    else:\n",
        "        return \"Cannot divide by zero\"\n",
        "\n",
        "# Main function\n",
        "def calculator():\n",
        "    # Taking user input for two numbers\n",
        "    num1 = float(input(\"Enter the first number: \"))\n",
        "    num2 = float(input(\"Enter the second number: \"))\n",
        "\n",
        "    # Menu for operations\n",
        "    print(\"Select operation:\")\n",
        "    print(\"1. Addition\")\n",
        "    print(\"2. Subtraction\")\n",
        "    print(\"3. Multiplication\")\n",
        "    print(\"4. Division\")\n",
        "\n",
        "    choice = input(\"Enter choice (1/2/3/4): \")\n",
        "\n",
        "    # Perform the selected operation\n",
        "    if choice == '1':\n",
        "        result = add(num1, num2)\n",
        "        print(f\"{num1} + {num2} = {result}\")\n",
        "    elif choice == '2':\n",
        "        result = subtract(num1, num2)\n",
        "        print(f\"{num1} - {num2} = {result}\")\n",
        "    elif choice == '3':\n",
        "        result = multiply(num1, num2)\n",
        "        print(f\"{num1} * {num2} = {result}\")\n",
        "    elif choice == '4':\n",
        "        result = divide(num1, num2)\n",
        "        print(f\"{num1} / {num2} = {result}\")\n",
        "    else:\n",
        "        print(\"Invalid input\")\n",
        "\n",
        "# Calling the main function\n",
        "calculator()\n"
      ]
    },
    {
      "cell_type": "code",
      "execution_count": null,
      "metadata": {
        "id": "SG-uxBF2J6L_"
      },
      "outputs": [],
      "source": [
        "#  9. Python program to shuffle a deck of cards using the module random and draw 5 cards"
      ]
    },
    {
      "cell_type": "code",
      "execution_count": null,
      "metadata": {
        "colab": {
          "base_uri": "https://localhost:8080/"
        },
        "id": "nESetYcKJ6P6",
        "outputId": "b6c14f9f-9af8-49d3-d86d-a48ce3969200"
      },
      "outputs": [
        {
          "name": "stdout",
          "output_type": "stream",
          "text": [
            "Enter the year: 2022\n",
            "Enter the month 1 to 12 : 12\n",
            "        December\n",
            "---------------------\n",
            "   December 2022\n",
            "Mo Tu We Th Fr Sa Su\n",
            "          1  2  3  4\n",
            " 5  6  7  8  9 10 11\n",
            "12 13 14 15 16 17 18\n",
            "19 20 21 22 23 24 25\n",
            "26 27 28 29 30 31\n",
            "\n"
          ]
        }
      ],
      "source": [
        "#  10. Python program to display a calendar of a given month of the year\n",
        "import calendar\n",
        "\n",
        "year = int(input(\"Enter the year: \"))\n",
        "month = int(input(\"Enter the month 1 to 12 : \"))\n",
        "\n",
        "month_calendar = calendar.month(year, month)\n",
        "\n",
        "# month name nikala gaya---------\n",
        "print(\"       \", calendar.month_name[month])\n",
        "\n",
        "print(\"---------------------\")\n",
        "print(month_calendar)  # Print the calendar string\n"
      ]
    },
    {
      "cell_type": "code",
      "execution_count": null,
      "metadata": {
        "colab": {
          "base_uri": "https://localhost:8080/"
        },
        "id": "WL64a2nCJ6TR",
        "outputId": "3cfc44de-a385-44e7-cb1a-c39916aa2f21"
      },
      "outputs": [
        {
          "name": "stdout",
          "output_type": "stream",
          "text": [
            "Enter the size of series : 10\n",
            "0 1 1 2 3 5 8 13 21 34 "
          ]
        }
      ],
      "source": [
        "#  11. Python program to display the Fibonacci sequence up to the n th term using recursive functions\n",
        "def fibonacci(n):\n",
        "  if n <= 1:\n",
        "    return n\n",
        "  else:\n",
        "    return fibonacci(n-1) + fibonacci(n-2)\n",
        "\n",
        "n = int(input(\"Enter the size of series : \"))\n",
        "for i in range(n):\n",
        "  print(fibonacci(i), end=\" \")\n",
        "\n"
      ]
    },
    {
      "cell_type": "code",
      "execution_count": null,
      "metadata": {
        "colab": {
          "base_uri": "https://localhost:8080/"
        },
        "id": "i4ISvYlNJ6Yg",
        "outputId": "8510b8f7-1de1-4108-ed54-de33c3092624"
      },
      "outputs": [
        {
          "name": "stdout",
          "output_type": "stream",
          "text": [
            "Enter a positive integer (n): 5\n",
            "Sum of natural uupto5 : 15\n"
          ]
        }
      ],
      "source": [
        "#  12. Python program to find the sum of natural numbers up to n using recursive function\n",
        "def sum(n):\n",
        "    if n == 1:\n",
        "        return 1\n",
        "    else:\n",
        "        return n + sum(n - 1)\n",
        "\n",
        "n = int(input(\"Enter a positive integer (n): \"))\n",
        "if n <= 0:\n",
        "    print(\"Please enter a positive integer.\")\n",
        "else:\n",
        "    result = sum(n)\n",
        "    print(f\"Sum of natural uupto{n} :\",result)\n"
      ]
    },
    {
      "cell_type": "code",
      "execution_count": null,
      "metadata": {
        "colab": {
          "base_uri": "https://localhost:8080/"
        },
        "id": "i7FSg6KTJ6cO",
        "outputId": "2fa1acbf-8a9d-47e5-8bf2-d8c81ce931a1"
      },
      "outputs": [
        {
          "name": "stdout",
          "output_type": "stream",
          "text": [
            "Enter any number : 5\n",
            "factorian of 5:  120\n"
          ]
        }
      ],
      "source": [
        "#  13. Python program to find the factorial of a number using recursion\n",
        "def factorial(n):\n",
        "  if n==0:\n",
        "    return 1\n",
        "  else:\n",
        "    return n*(factorial(n-1))\n",
        "n=int(input(\"Enter any number : \"))\n",
        "result=factorial(n)\n",
        "print(f\"factorian of {n}: \",result)"
      ]
    },
    {
      "cell_type": "code",
      "execution_count": null,
      "metadata": {
        "colab": {
          "base_uri": "https://localhost:8080/"
        },
        "id": "kr9M3Y0rJ6f1",
        "outputId": "e1d08a06-c9cc-44a7-f1e0-d20a411238ea"
      },
      "outputs": [
        {
          "name": "stdout",
          "output_type": "stream",
          "text": [
            "Enter a decimal number: 15\n",
            "The binary representation of 15 is:  01111\n"
          ]
        }
      ],
      "source": [
        "#  14. Python Program to Convert Decimal to Binary Using Recursion\n",
        "def binary(n):\n",
        "    if n == 0:\n",
        "        return '0'\n",
        "    else:\n",
        "        return binary(n // 2)+str(n%2)\n",
        "\n",
        "n = int(input(\"Enter a decimal number: \"))\n",
        "\n",
        "if n < 0:\n",
        "    print(\"Please enter a non-negative integer.\")\n",
        "else:\n",
        "    binaryno = binary(n)\n",
        "    print(f\"The binary representation of {n} is: \",binaryno)\n"
      ]
    },
    {
      "cell_type": "code",
      "execution_count": null,
      "metadata": {
        "colab": {
          "base_uri": "https://localhost:8080/"
        },
        "id": "bhXWm_L1J6jn",
        "outputId": "a1cfc8ab-8122-42f2-dbc0-a2f194d9b0cb"
      },
      "outputs": [
        {
          "name": "stdout",
          "output_type": "stream",
          "text": [
            "Enter any decimal number : 10\n",
            "Octal representation of decimal 10 is 012\n"
          ]
        }
      ],
      "source": [
        "#  15. Python Program to Convert Decimal to Octal Using Recursion\n",
        "def octal(n):\n",
        "  if n<8:\n",
        "    return n\n",
        "  else:\n",
        "    return binary(n // 8)+str(n%8)\n",
        "n=int(input(\"Enter any decimal number : \"))\n",
        "octalno=octal(n)\n",
        "print(f\"Octal representation of decimal {n} is {octalno}\")"
      ]
    },
    {
      "cell_type": "code",
      "execution_count": 8,
      "metadata": {
        "colab": {
          "base_uri": "https://localhost:8080/",
          "height": 125
        },
        "id": "1mw_UVhJPsZ1",
        "outputId": "0b276629-a952-4a5f-fa37-db0aff24d961"
      },
      "outputs": [
        {
          "data": {
            "text/html": [
              "\n",
              "     <input type=\"file\" id=\"files-f63cfa9f-c006-48be-9405-aa5ae12d5002\" name=\"files[]\" multiple disabled\n",
              "        style=\"border:none\" />\n",
              "     <output id=\"result-f63cfa9f-c006-48be-9405-aa5ae12d5002\">\n",
              "      Upload widget is only available when the cell has been executed in the\n",
              "      current browser session. Please rerun this cell to enable.\n",
              "      </output>\n",
              "      <script>// Copyright 2017 Google LLC\n",
              "//\n",
              "// Licensed under the Apache License, Version 2.0 (the \"License\");\n",
              "// you may not use this file except in compliance with the License.\n",
              "// You may obtain a copy of the License at\n",
              "//\n",
              "//      http://www.apache.org/licenses/LICENSE-2.0\n",
              "//\n",
              "// Unless required by applicable law or agreed to in writing, software\n",
              "// distributed under the License is distributed on an \"AS IS\" BASIS,\n",
              "// WITHOUT WARRANTIES OR CONDITIONS OF ANY KIND, either express or implied.\n",
              "// See the License for the specific language governing permissions and\n",
              "// limitations under the License.\n",
              "\n",
              "/**\n",
              " * @fileoverview Helpers for google.colab Python module.\n",
              " */\n",
              "(function(scope) {\n",
              "function span(text, styleAttributes = {}) {\n",
              "  const element = document.createElement('span');\n",
              "  element.textContent = text;\n",
              "  for (const key of Object.keys(styleAttributes)) {\n",
              "    element.style[key] = styleAttributes[key];\n",
              "  }\n",
              "  return element;\n",
              "}\n",
              "\n",
              "// Max number of bytes which will be uploaded at a time.\n",
              "const MAX_PAYLOAD_SIZE = 100 * 1024;\n",
              "\n",
              "function _uploadFiles(inputId, outputId) {\n",
              "  const steps = uploadFilesStep(inputId, outputId);\n",
              "  const outputElement = document.getElementById(outputId);\n",
              "  // Cache steps on the outputElement to make it available for the next call\n",
              "  // to uploadFilesContinue from Python.\n",
              "  outputElement.steps = steps;\n",
              "\n",
              "  return _uploadFilesContinue(outputId);\n",
              "}\n",
              "\n",
              "// This is roughly an async generator (not supported in the browser yet),\n",
              "// where there are multiple asynchronous steps and the Python side is going\n",
              "// to poll for completion of each step.\n",
              "// This uses a Promise to block the python side on completion of each step,\n",
              "// then passes the result of the previous step as the input to the next step.\n",
              "function _uploadFilesContinue(outputId) {\n",
              "  const outputElement = document.getElementById(outputId);\n",
              "  const steps = outputElement.steps;\n",
              "\n",
              "  const next = steps.next(outputElement.lastPromiseValue);\n",
              "  return Promise.resolve(next.value.promise).then((value) => {\n",
              "    // Cache the last promise value to make it available to the next\n",
              "    // step of the generator.\n",
              "    outputElement.lastPromiseValue = value;\n",
              "    return next.value.response;\n",
              "  });\n",
              "}\n",
              "\n",
              "/**\n",
              " * Generator function which is called between each async step of the upload\n",
              " * process.\n",
              " * @param {string} inputId Element ID of the input file picker element.\n",
              " * @param {string} outputId Element ID of the output display.\n",
              " * @return {!Iterable<!Object>} Iterable of next steps.\n",
              " */\n",
              "function* uploadFilesStep(inputId, outputId) {\n",
              "  const inputElement = document.getElementById(inputId);\n",
              "  inputElement.disabled = false;\n",
              "\n",
              "  const outputElement = document.getElementById(outputId);\n",
              "  outputElement.innerHTML = '';\n",
              "\n",
              "  const pickedPromise = new Promise((resolve) => {\n",
              "    inputElement.addEventListener('change', (e) => {\n",
              "      resolve(e.target.files);\n",
              "    });\n",
              "  });\n",
              "\n",
              "  const cancel = document.createElement('button');\n",
              "  inputElement.parentElement.appendChild(cancel);\n",
              "  cancel.textContent = 'Cancel upload';\n",
              "  const cancelPromise = new Promise((resolve) => {\n",
              "    cancel.onclick = () => {\n",
              "      resolve(null);\n",
              "    };\n",
              "  });\n",
              "\n",
              "  // Wait for the user to pick the files.\n",
              "  const files = yield {\n",
              "    promise: Promise.race([pickedPromise, cancelPromise]),\n",
              "    response: {\n",
              "      action: 'starting',\n",
              "    }\n",
              "  };\n",
              "\n",
              "  cancel.remove();\n",
              "\n",
              "  // Disable the input element since further picks are not allowed.\n",
              "  inputElement.disabled = true;\n",
              "\n",
              "  if (!files) {\n",
              "    return {\n",
              "      response: {\n",
              "        action: 'complete',\n",
              "      }\n",
              "    };\n",
              "  }\n",
              "\n",
              "  for (const file of files) {\n",
              "    const li = document.createElement('li');\n",
              "    li.append(span(file.name, {fontWeight: 'bold'}));\n",
              "    li.append(span(\n",
              "        `(${file.type || 'n/a'}) - ${file.size} bytes, ` +\n",
              "        `last modified: ${\n",
              "            file.lastModifiedDate ? file.lastModifiedDate.toLocaleDateString() :\n",
              "                                    'n/a'} - `));\n",
              "    const percent = span('0% done');\n",
              "    li.appendChild(percent);\n",
              "\n",
              "    outputElement.appendChild(li);\n",
              "\n",
              "    const fileDataPromise = new Promise((resolve) => {\n",
              "      const reader = new FileReader();\n",
              "      reader.onload = (e) => {\n",
              "        resolve(e.target.result);\n",
              "      };\n",
              "      reader.readAsArrayBuffer(file);\n",
              "    });\n",
              "    // Wait for the data to be ready.\n",
              "    let fileData = yield {\n",
              "      promise: fileDataPromise,\n",
              "      response: {\n",
              "        action: 'continue',\n",
              "      }\n",
              "    };\n",
              "\n",
              "    // Use a chunked sending to avoid message size limits. See b/62115660.\n",
              "    let position = 0;\n",
              "    do {\n",
              "      const length = Math.min(fileData.byteLength - position, MAX_PAYLOAD_SIZE);\n",
              "      const chunk = new Uint8Array(fileData, position, length);\n",
              "      position += length;\n",
              "\n",
              "      const base64 = btoa(String.fromCharCode.apply(null, chunk));\n",
              "      yield {\n",
              "        response: {\n",
              "          action: 'append',\n",
              "          file: file.name,\n",
              "          data: base64,\n",
              "        },\n",
              "      };\n",
              "\n",
              "      let percentDone = fileData.byteLength === 0 ?\n",
              "          100 :\n",
              "          Math.round((position / fileData.byteLength) * 100);\n",
              "      percent.textContent = `${percentDone}% done`;\n",
              "\n",
              "    } while (position < fileData.byteLength);\n",
              "  }\n",
              "\n",
              "  // All done.\n",
              "  yield {\n",
              "    response: {\n",
              "      action: 'complete',\n",
              "    }\n",
              "  };\n",
              "}\n",
              "\n",
              "scope.google = scope.google || {};\n",
              "scope.google.colab = scope.google.colab || {};\n",
              "scope.google.colab._files = {\n",
              "  _uploadFiles,\n",
              "  _uploadFilesContinue,\n",
              "};\n",
              "})(self);\n",
              "</script> "
            ],
            "text/plain": [
              "<IPython.core.display.HTML object>"
            ]
          },
          "metadata": {},
          "output_type": "display_data"
        },
        {
          "name": "stdout",
          "output_type": "stream",
          "text": [
            "Saving factorial_module.py to factorial_module (1).py\n"
          ]
        },
        {
          "data": {
            "text/plain": [
              "{'factorial_module (1).py': b'# -*- coding: utf-8 -*-\\n\"\"\"factorial_module.ipynb\\n\\nAutomatically generated by Colaboratory.\\n\\nOriginal file is located at\\n    https://colab.research.google.com/drive/1WW-_IFcVdX03EBvF7fRGYd0MG-YLXusO\\n\"\"\"\\n\\ndef factorial(n):\\n  if n==0:\\n    return 1\\n  else:\\n    return n*(factorial(n-1))'}"
            ]
          },
          "execution_count": 8,
          "metadata": {},
          "output_type": "execute_result"
        }
      ],
      "source": [
        "#upload factorial module from download section(phle factorial_module colab par banao fir .py ke sath download kro fir upload kro)\n",
        "from google.colab import files\n",
        "files.upload()"
      ]
    },
    {
      "cell_type": "code",
      "execution_count": 11,
      "metadata": {
        "colab": {
          "base_uri": "https://localhost:8080/"
        },
        "id": "M6Ujau4pJ6nr",
        "outputId": "aeb722dd-6466-4d03-de1b-0670eb826396"
      },
      "outputs": [
        {
          "name": "stdout",
          "output_type": "stream",
          "text": [
            "Enter any number :5\n",
            "factorial of 5 is :  120\n"
          ]
        }
      ],
      "source": [
        "#  16. Write a python program to find factorial of a number using user-defined modules.\n",
        "import factorial_module\n",
        "n=int(input(\"Enter any number :\"))\n",
        "result=factorial_module.factorial(n)\n",
        "print(f\"factorial of {n} is : \",result)\n"
      ]
    },
    {
      "cell_type": "code",
      "execution_count": 13,
      "metadata": {
        "colab": {
          "base_uri": "https://localhost:8080/"
        },
        "id": "eRIHdDm3J6sB",
        "outputId": "bfef9886-e8ce-49e8-8a24-0f375d4d2511"
      },
      "outputs": [
        {
          "name": "stdout",
          "output_type": "stream",
          "text": [
            "sin(pi/2) = 1.0\n",
            "cos(pi) = -1.0\n",
            "tan(pi/4) = 0.9999999999999999\n",
            "asin(1) = 1.5707963267948966\n",
            "acos(-1) = 3.141592653589793\n",
            "atan(1) = 0.7853981633974483\n",
            "sinh(1) = 1.1752011936438014\n",
            "cosh(1) = 1.5430806348152437\n",
            "tanh(1) = 0.7615941559557649\n",
            "asinh(1) = 0.881373587019543\n",
            "acosh(1) = 0.0\n",
            "atanh(0.5) = 0.5493061443340548\n",
            "log10(100) = 2.0\n",
            "log2(8) = 3.0\n",
            "exp(1) = 2.718281828459045\n",
            "pow(2, 3) = 8.0\n",
            "sqrt(9) = 3.0\n",
            "ceil(3.14) = 4\n",
            "floor(3.14) = 3\n",
            "pi = 3.141592653589793\n",
            "e = 2.718281828459045\n",
            "factorial(5) = 120\n",
            "degrees(1 radian) = 57.29577951308232\n",
            "radians(180 degrees) = 3.141592653589793\n"
          ]
        }
      ],
      "source": [
        "#  17. Write a Python Program to demonstrate all the built-in functions from the Math module.\n",
        "import math\n",
        "\n",
        "# Demonstrate trigonometric functions\n",
        "print(\"sin(pi/2) =\", math.sin(math.pi / 2))\n",
        "print(\"cos(pi) =\", math.cos(math.pi))\n",
        "print(\"tan(pi/4) =\", math.tan(math.pi / 4))\n",
        "\n",
        "# Inverse trigonometric functions\n",
        "print(\"asin(1) =\", math.asin(1))\n",
        "print(\"acos(-1) =\", math.acos(-1))\n",
        "print(\"atan(1) =\", math.atan(1))\n",
        "\n",
        "# Hyperbolic functions\n",
        "print(\"sinh(1) =\", math.sinh(1))\n",
        "print(\"cosh(1) =\", math.cosh(1))\n",
        "print(\"tanh(1) =\", math.tanh(1))\n",
        "\n",
        "# Inverse hyperbolic functions\n",
        "print(\"asinh(1) =\", math.asinh(1))\n",
        "print(\"acosh(1) =\", math.acosh(1))\n",
        "print(\"atanh(0.5) =\", math.atanh(0.5))\n",
        "\n",
        "# Logarithmic functions\n",
        "print(\"log10(100) =\", math.log10(100))\n",
        "print(\"log2(8) =\", math.log2(8))\n",
        "print(\"exp(1) =\", math.exp(1))\n",
        "\n",
        "# Powers and roots\n",
        "print(\"pow(2, 3) =\", math.pow(2, 3))\n",
        "print(\"sqrt(9) =\", math.sqrt(9))\n",
        "print(\"ceil(3.14) =\", math.ceil(3.14))\n",
        "print(\"floor(3.14) =\", math.floor(3.14))\n",
        "\n",
        "# Constants\n",
        "print(\"pi =\", math.pi)\n",
        "print(\"e =\", math.e)\n",
        "\n",
        "# Other functions\n",
        "print(\"factorial(5) =\", math.factorial(5))\n",
        "print(\"degrees(1 radian) =\", math.degrees(1))\n",
        "print(\"radians(180 degrees) =\", math.radians(180))\n"
      ]
    },
    {
      "cell_type": "code",
      "execution_count": 3,
      "metadata": {
        "colab": {
          "base_uri": "https://localhost:8080/"
        },
        "id": "whYMyjDeJ6v7",
        "outputId": "23cc2235-1fc2-461b-dae3-6241e3937494"
      },
      "outputs": [
        {
          "name": "stdout",
          "output_type": "stream",
          "text": [
            "Random integer between 0 and 9: 4\n",
            "Random float between 0 and 1: 0.6764617429028786\n",
            "Randomly chosen fruit: apple\n",
            "Shuffled list: [9, 3, 1, 0, 7, 8, 2, 4, 5, 6]\n",
            "Random sample of 3 numbers from the list: [9, 5, 4]\n",
            "Random integer with seed 10: 9\n",
            "Random integer with seed 10 again: 9\n",
            "\n",
            "Available functions: ['BPF', 'LOG4', 'NV_MAGICCONST', 'RECIP_BPF', 'Random', 'SG_MAGICCONST', 'SystemRandom', 'TWOPI', '_ONE', '_Sequence', '_Set', '__all__', '__builtins__', '__cached__', '__doc__', '__file__', '__loader__', '__name__', '__package__', '__spec__', '_accumulate', '_acos', '_bisect', '_ceil', '_cos', '_e', '_exp', '_floor', '_index', '_inst', '_isfinite', '_log', '_os', '_pi', '_random', '_repeat', '_sha512', '_sin', '_sqrt', '_test', '_test_generator', '_urandom', '_warn', 'betavariate', 'choice', 'choices', 'expovariate', 'gammavariate', 'gauss', 'getrandbits', 'getstate', 'lognormvariate', 'normalvariate', 'paretovariate', 'randbytes', 'randint', 'random', 'randrange', 'sample', 'seed', 'setstate', 'shuffle', 'triangular', 'uniform', 'vonmisesvariate', 'weibullvariate']\n"
          ]
        }
      ],
      "source": [
        "#  18. Write a Python Program to demonstrate all the built-in functions from the Random module.\n",
        "import random\n",
        "\n",
        "# Generate random numbers\n",
        "print(\"Random integer between 0 and 9:\", random.randint(0, 9))\n",
        "print(\"Random float between 0 and 1:\", random.random())\n",
        "\n",
        "# Generate random choices\n",
        "fruits = [\"apple\", \"banana\", \"orange\", \"grapefruit\"]\n",
        "print(\"Randomly chosen fruit:\", random.choice(fruits))\n",
        "\n",
        "# Shuffle a list\n",
        "numbers = list(range(10))\n",
        "random.shuffle(numbers)\n",
        "print(\"Shuffled list:\", numbers)\n",
        "\n",
        "# Generate random samples\n",
        "print(\"Random sample of 3 numbers from the list:\", random.sample(numbers, 3))\n",
        "\n",
        "# Demonstrate seeding\n",
        "random.seed(10)  # Set the seed for reproducible results\n",
        "print(\"Random integer with seed 10:\", random.randint(0, 9))\n",
        "random.seed(10)  # Reset the seed\n",
        "print(\"Random integer with seed 10 again:\", random.randint(0, 9))\n",
        "\n",
        "# Show available functions\n",
        "print(\"\\nAvailable functions:\", dir(random))"
      ]
    },
    {
      "cell_type": "code",
      "execution_count": 15,
      "metadata": {
        "colab": {
          "base_uri": "https://localhost:8080/"
        },
        "id": "b1gneUNGJ6zT",
        "outputId": "4b81ac1b-923e-468e-da5e-526bd93c2fdb"
      },
      "outputs": [
        {
          "name": "stdout",
          "output_type": "stream",
          "text": [
            "Current date and time: 2024-01-27 10:21:58.635348\n",
            "Year: 2024\n",
            "Month: 1\n",
            "Day: 27\n",
            "Hour: 10\n",
            "Minute: 21\n",
            "Second: 58\n",
            "Microsecond: 635348\n",
            "Specific date and time: 2024-11-21 15:30:45\n",
            "Formatted date (YYYY-MM-DD): 2024-01-27\n",
            "Formatted time (HH:MM:SS): 10:21:58\n",
            "Custom format: January 27, 2024, 10:21 AM\n",
            "5 days, 12 hours, and 30 minutes from now: 2024-02-01 22:51:58.635348\n",
            "5 days, 12 hours, and 30 minutes ago: 2024-01-21 21:51:58.635348\n",
            "Current time zone: UTC\n"
          ]
        }
      ],
      "source": [
        "#  19. Write a Python Program to demonstrate all the built-in functions from Time & Date module.\n",
        "import datetime\n",
        "\n",
        "# Get current date and time\n",
        "now = datetime.datetime.now()\n",
        "print(\"Current date and time:\", now)\n",
        "\n",
        "# Access individual components\n",
        "print(\"Year:\", now.year)\n",
        "print(\"Month:\", now.month)\n",
        "print(\"Day:\", now.day)\n",
        "print(\"Hour:\", now.hour)\n",
        "print(\"Minute:\", now.minute)\n",
        "print(\"Second:\", now.second)\n",
        "print(\"Microsecond:\", now.microsecond)\n",
        "\n",
        "# Create a specific date and time\n",
        "specific_date = datetime.datetime(2024, 11, 21, 15, 30, 45)\n",
        "print(\"Specific date and time:\", specific_date)\n",
        "\n",
        "# Format date and time\n",
        "print(\"Formatted date (YYYY-MM-DD):\", now.strftime(\"%Y-%m-%d\"))\n",
        "print(\"Formatted time (HH:MM:SS):\", now.strftime(\"%H:%M:%S\"))\n",
        "print(\"Custom format:\", now.strftime(\"%B %d, %Y, %I:%M %p\"))  # Month Day, Year, Hour:Minute AM/PM\n",
        "\n",
        "# Calculate time differences\n",
        "time_delta = datetime.timedelta(days=5, hours=12, minutes=30)\n",
        "print(\"5 days, 12 hours, and 30 minutes from now:\", now + time_delta)\n",
        "print(\"5 days, 12 hours, and 30 minutes ago:\", now - time_delta)\n",
        "\n",
        "# Get current time zone\n",
        "print(\"Current time zone:\", datetime.datetime.now(datetime.timezone.utc).astimezone().tzname())"
      ]
    },
    {
      "cell_type": "code",
      "execution_count": 2,
      "metadata": {
        "colab": {
          "base_uri": "https://localhost:8080/"
        },
        "id": "ygCdVxDGJ64Z",
        "outputId": "9c1c5071-ba92-48fb-aefd-2564e3c823a8"
      },
      "outputs": [
        {
          "name": "stdout",
          "output_type": "stream",
          "text": [
            "Randomly selected element from range(1, 10, 2): 7\n"
          ]
        }
      ],
      "source": [
        "#  20. Write a Python Program which will Generate a randomly selected element from range(start, stop, step)\n",
        "import random\n",
        "\n",
        "def generate_random_from_range(start, stop, step):\n",
        "\n",
        "  # Create a list of values within the range\n",
        "  values = list(range(start, stop, step))\n",
        "\n",
        "  # Get a random index within the list's bounds\n",
        "  random_index = random.randrange(len(values))\n",
        "\n",
        "  # Return the element at the random index\n",
        "  return values[random_index]\n",
        "\n",
        "# Example usage\n",
        "start = 1\n",
        "stop = 10\n",
        "step = 2\n",
        "random_element = generate_random_from_range(start, stop, step)\n",
        "print(f\"Randomly selected element from range({start}, {stop}, {step}): {random_element}\")"
      ]
    }
  ],
  "metadata": {
    "colab": {
      "provenance": []
    },
    "kernelspec": {
      "display_name": "Python 3",
      "name": "python3"
    },
    "language_info": {
      "name": "python"
    }
  },
  "nbformat": 4,
  "nbformat_minor": 0
}
